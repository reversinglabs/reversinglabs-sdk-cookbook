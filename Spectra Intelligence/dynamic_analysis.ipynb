{
 "cells": [
  {
   "cell_type": "markdown",
   "id": "b8d1af5cc840b3f7",
   "metadata": {
    "collapsed": false
   },
   "source": [
    "# Spectra Intelligence Dynamic Analysis API-s\n",
    "This notebook demonstrates how to use the Dynamic Analysis API-s, namely the Dynamic Analysis and Dynamic Analysis Report. The first one mentioned here handles submitting a cloud sample or a URL to dynamic analysis and the second one handles returning a comprehensive report.\n",
    "**NOTE:** If pasted into a Python file in the displayed order, all code cells can also work as a Python script."
   ]
  },
  {
   "cell_type": "markdown",
   "id": "d0017f35a70ab1d3",
   "metadata": {
    "collapsed": false
   },
   "source": [
    "### Covered API classes\n",
    "This notebook covers examples for the following API class:\n",
    "- **DynamicAnalysis** (*TCA-0207 and TCA-0106*)\n",
    "    - The ReversingLabs SDK couples both API-s under one Python class.\n",
    "\n",
    "### Credentials\n",
    "Credentials are loaded from a local file instead of being written here in plain text.\n",
    "To learn how to creat the credentials file, see the **Storing and using the credentials** section in the [README file](./README.md)"
   ]
  },
  {
   "cell_type": "markdown",
   "id": "5311f2a9b38b7da4",
   "metadata": {
    "collapsed": false
   },
   "source": [
    "### 1. Importing the required classes\n",
    "First, we will import the required API class from the ticloud module."
   ]
  },
  {
   "cell_type": "code",
   "execution_count": null,
   "id": "201611a7bc394da6",
   "metadata": {},
   "outputs": [],
   "source": [
    "from ReversingLabs.SDK.ticloud import DynamicAnalysis"
   ]
  },
  {
   "cell_type": "markdown",
   "id": "379e0a6a4f530e52",
   "metadata": {
    "collapsed": false
   },
   "source": [
    "### 2. Loading the credentials\n",
    "Next, we will load our Spectra Intelligence credentials from the local `ticloud_credentials.json` file.\n",
    "**NOTE: Instead of doing this step, you can paste your credentials while creating the Python object in the following step.**"
   ]
  },
  {
   "cell_type": "code",
   "execution_count": null,
   "id": "819f7b78f95ff043",
   "metadata": {},
   "outputs": [],
   "source": [
    "import json\n",
    "\n",
    "\n",
    "CREDENTIALS = json.load(open(\"ticloud_credentials.json\"))\n",
    "USERNAME = CREDENTIALS.get(\"username\")\n",
    "PASSWORD = CREDENTIALS.get(\"password\")\n",
    "USER_AGENT = json.load(open('../user_agent.json'))[\"user_agent\"]"
   ]
  },
  {
   "cell_type": "markdown",
   "id": "be3174e271ed926f",
   "metadata": {
    "collapsed": false
   },
   "source": [
    "### 3. Creating the DynamicAnalysis object\n",
    "After we create an object from the DynamicAnalysis class, we will be able to use its methods."
   ]
  },
  {
   "cell_type": "code",
   "execution_count": null,
   "id": "79dda784f340b2fb",
   "metadata": {},
   "outputs": [],
   "source": [
    "dynamic_analysis = DynamicAnalysis(\n",
    "    host=\"https://data.reversinglabs.com\",\n",
    "    username=USERNAME,\n",
    "    password=PASSWORD,\n",
    "    user_agent=USER_AGENT\n",
    ")"
   ]
  },
  {
   "cell_type": "markdown",
   "id": "ed7c398820cf1b5c",
   "metadata": {
    "collapsed": false
   },
   "source": [
    "### 4. Submitting a sample for Dynamic Analysis\n",
    "To submit a sample for dynamic analysis, we need the sample's SHA1 hash instead of the sample's content. That is because the sample needs to already be present in Spectra Intelligence to be available for detonation.  \n",
    "To see how to upload a sample to Spectra Intelligence, see section 6. or the [Sample management notebook](./sample_management.ipynb).  \n",
    "Please change the `example_sha1_hash` into an actual SHA1 hash of a sample found in the cloud."
   ]
  },
  {
   "cell_type": "code",
   "execution_count": null,
   "id": "b44db92b77fbf27a",
   "metadata": {},
   "outputs": [],
   "source": [
    "detonate1 = dynamic_analysis.detonate_sample(\n",
    "    sample_sha1=\"example_sha1_hash\",\n",
    "    platform=\"windows10\"\n",
    ")\n",
    "\n",
    "print(detonate1.text)"
   ]
  },
  {
   "cell_type": "markdown",
   "id": "baef03306c25b050",
   "metadata": {
    "collapsed": false
   },
   "source": [
    "If the detonation request was successful, we will see a response message stating that the analysis has been requested.  \n",
    "**NOTE:** After requesting Dynamic Analysis on a sample, it may take some time for it to be finished and the results ready. You can periodically try to fetch the results to see the status."
   ]
  },
  {
   "cell_type": "markdown",
   "id": "615808f661ad633e",
   "metadata": {
    "collapsed": false
   },
   "source": [
    "### 5. Getting the Dynamic Analysis results for a sample\n",
    "After the Dynamic Analysis is finished, we can move on to getting the results for our sample."
   ]
  },
  {
   "cell_type": "code",
   "execution_count": null,
   "id": "f8ceec702d1ba22b",
   "metadata": {},
   "outputs": [],
   "source": [
    "results = dynamic_analysis.get_dynamic_analysis_results(sample_hash=\"example_sha1_hash\")\n",
    "\n",
    "print(results.text)"
   ]
  },
  {
   "cell_type": "markdown",
   "id": "f3bd4a50a5bb7495",
   "metadata": {
    "collapsed": false
   },
   "source": [
    "This is the simplest request we can make to acquire the results for our analyzed sample. There are other options available:\n",
    "\n",
    "#### A specific analysis from the past"
   ]
  },
  {
   "cell_type": "code",
   "execution_count": null,
   "id": "de5df2964f0ca6c3",
   "metadata": {},
   "outputs": [],
   "source": [
    "results = dynamic_analysis.get_dynamic_analysis_results(\n",
    "    sample_hash=\"example_sha1_hash\",\n",
    "    analysis_id=\"specific_analysis_id\"\n",
    ")\n",
    "\n",
    "print(results.text)"
   ]
  },
  {
   "cell_type": "markdown",
   "id": "ce72ae76ab869a61",
   "metadata": {
    "collapsed": false
   },
   "source": [
    "When returning the analysis results in general, each returned analysis has its own ID that can be used as this argument.\n",
    "\n",
    "#### The latest analysis"
   ]
  },
  {
   "cell_type": "code",
   "execution_count": null,
   "id": "853dc9659d82cf7d",
   "metadata": {},
   "outputs": [],
   "source": [
    "results = dynamic_analysis.get_dynamic_analysis_results(\n",
    "    sample_hash=\"example_sha1_hash\",\n",
    "    latest=True\n",
    ")\n",
    "\n",
    "print(results.text)"
   ]
  },
  {
   "cell_type": "markdown",
   "id": "6beeddb9d3e8b944",
   "metadata": {
    "collapsed": false
   },
   "source": [
    "This request will return the results of only the latest analysis that we performed."
   ]
  },
  {
   "cell_type": "markdown",
   "id": "8a7a18288b2da807",
   "metadata": {
    "collapsed": false
   },
   "source": [
    "### 6. Uploading the sample to the cloud\n",
    "For a sample to be available for dynamic analysis it **needs to be present on Spectra Intelligence**. If a sample is not present in Spectra Intelligence, we first need to upload it using the **FileUpload** class."
   ]
  },
  {
   "cell_type": "code",
   "execution_count": null,
   "id": "2f3e0eeab08a49de",
   "metadata": {},
   "outputs": [],
   "source": [
    "from ReversingLabs.SDK.ticloud import FileUpload\n",
    "\n",
    "\n",
    "upload = FileUpload(\n",
    "    host=\"https://data.reversinglabs.com\",\n",
    "    username=USERNAME,\n",
    "    password=PASSWORD,\n",
    "    user_agent=USER_AGENT\n",
    ")\n",
    "\n",
    "_ = upload.upload_sample_from_path(file_path=\"sample.exe\")"
   ]
  },
  {
   "cell_type": "markdown",
   "id": "91e2375faa1dfd70",
   "metadata": {
    "collapsed": false
   },
   "source": [
    "After the sample is uploaded to the cloud, we can request Dynamic Analysis on it. Again, to submit the sample for Dynamic Analysis, we need to use its SHA1 hash."
   ]
  },
  {
   "cell_type": "code",
   "execution_count": null,
   "id": "fa928c5d6108a5cc",
   "metadata": {},
   "outputs": [],
   "source": [
    "detonate2 = dynamic_analysis.detonate_sample(\n",
    "    sample_sha1=\"example_sha1_hash\",\n",
    "    platform=\"windows7\"\n",
    ")"
   ]
  },
  {
   "cell_type": "markdown",
   "id": "1b01d3239862ff90",
   "metadata": {
    "collapsed": false
   },
   "source": [
    "### 7. Submitting a URL for Dynamic Analysis\n",
    "Apart from submitting only samples for Dynamic Analysis, we can also do the same for URL-s.  \n",
    "The procedure is, for the most part, the same, with the0 difference being in using a different \"detonate\" method and a different method parameter while fetching the results. To see how it differs from detonation and result fetching for samples, see the examples below.\n",
    "\n",
    "**Note:** It is highly recommended **not to open the URL-s** used as examples in this cookbook as many of them may be classified as containing malicious software and/or indicators and can be **harmful for you computer**. For this example, we used a placeholder URL."
   ]
  },
  {
   "cell_type": "code",
   "execution_count": null,
   "id": "ab411ebc51fe8576",
   "metadata": {},
   "outputs": [],
   "source": [
    "detonate3 = dynamic_analysis.detonate_url(\n",
    "    url_string=\"http://some.example.url./aaa\",\n",
    "    platform=\"windows10\"\n",
    ")\n",
    "\n",
    "print(detonate3.text)"
   ]
  },
  {
   "cell_type": "markdown",
   "id": "8978610cb7f52f73",
   "metadata": {
    "collapsed": false
   },
   "source": [
    "The response text that we received tells us the following info:\n",
    "- The analysis started.\n",
    "- We got the SHA-1, the Base64 and the actual string of our submitted URL.\n",
    "- We also got the ID of the started analysis.\n",
    "\n",
    "It is useful to save those values since we will be using them to access the URL Dynamic Analysis report."
   ]
  },
  {
   "cell_type": "markdown",
   "id": "68d86bc7cc7a7468",
   "metadata": {
    "collapsed": false
   },
   "source": [
    "### 8. Getting the Dynamic Analysis results for a URL\n",
    "To fetch the Dynamic Analysis results for our submitted URL, we can use one of the following as an input parameter:\n",
    "- The SHA-1 of the URL.\n",
    "- The URL string itself.\n",
    "\n",
    "For demonstration purposes, we will show you how to use both - in the order written above."
   ]
  },
  {
   "cell_type": "code",
   "execution_count": null,
   "id": "fb257b06a907e5a5",
   "metadata": {},
   "outputs": [],
   "source": [
    "# Example 1\n",
    "results_sha1 = dynamic_analysis.get_dynamic_analysis_results(\n",
    "    url_sha1=\"27c5d0351a92e7be52884c6aa863d25665cb6b32\",\n",
    "    analysis_id=\"6c8d9c60-2d9c-4c27-bc15-150b7e364d6c\"\n",
    ")\n",
    "\n",
    "# Example 2\n",
    "results_url = dynamic_analysis.get_dynamic_analysis_results(\n",
    "    url=\"http://some.example.url./aaa\",\n",
    "    latest=True\n",
    ")\n",
    "\n",
    "print(results_sha1.text)\n",
    "print(results_url.text)"
   ]
  },
  {
   "cell_type": "markdown",
   "id": "e7f2de25dca23fde",
   "metadata": {
    "collapsed": false
   },
   "source": [
    "Keep in mind that these are all placeholder values that serve only as examples of use. We did not use actual malicious URL-s for security purposes.  \n",
    "What did we do in these two examples?\n",
    "\n",
    "Example 1:\n",
    "- We used the URL-s SHA-1 as input.\n",
    "- We used the analysis ID to define which analysis we need.\n",
    "\n",
    "Example 2:\n",
    "- We used the actual URL string as input.\n",
    "- We stated that we want the latest analysis returned.\n",
    "\n",
    "Apart from defining the desired analysis using the `analysis_id` and `latest` parameters, we can also omit them completely and receive a merged report from all the analyses for this URL so far. However, keep in mind that, if the report is not yet ready, you will receive `404` as a status code."
   ]
  }
 ],
 "metadata": {
  "language_info": {
   "name": "python"
  }
 },
 "nbformat": 4,
 "nbformat_minor": 5
}
