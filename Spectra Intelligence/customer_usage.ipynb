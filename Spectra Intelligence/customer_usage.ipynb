{
 "cells": [
  {
   "cell_type": "markdown",
   "id": "808dff9f722432f5",
   "metadata": {
    "collapsed": false
   },
   "source": [
    "# Spectra Intelligence Customer Usage API\n",
    "This notebook demonstrates how to use the TCA-9999 Customer Usage API which shows quota usage and limits for all Spectra Intelligence API-s throughout your active cloud accounts.\n",
    "**NOTE:** If pasted into a Python file in the displayed order, all code cells can also work as a Python script."
   ]
  },
  {
   "cell_type": "markdown",
   "id": "b47309b48d6649a3",
   "metadata": {
    "collapsed": false
   },
   "source": [
    "### Covered API classes\n",
    "This notebook covers examples for the following API class:\n",
    "- **CustomerUsage** (*TCA-9999 - Customer Usage API*)\n",
    "\n",
    "### Credentials\n",
    "Credentials are loaded from a local file instead of being written here in plain text.\n",
    "To learn how to creat the credentials file, see the **Storing and using the credentials** section in the [README file](./README.md)"
   ]
  },
  {
   "cell_type": "markdown",
   "id": "4be03f80f09953ee",
   "metadata": {
    "collapsed": false
   },
   "source": [
    "### 1. Importing the required classes\n",
    "First, we will import the required API class from the ticloud module."
   ]
  },
  {
   "cell_type": "code",
   "execution_count": null,
   "id": "2273a45bbaaab24a",
   "metadata": {},
   "outputs": [],
   "source": [
    "from ReversingLabs.SDK.ticloud import CustomerUsage"
   ]
  },
  {
   "cell_type": "markdown",
   "id": "5edfec44428a787d",
   "metadata": {
    "collapsed": false
   },
   "source": [
    "### 2. Loading the credentials\n",
    "Next, we will load our Spectra Intelligence credentials from the local `ticloud_credentials.json` file.\n",
    "**NOTE: Instead of doing this step, you can paste your credentials while creating the Python object in the following step.**"
   ]
  },
  {
   "cell_type": "code",
   "execution_count": null,
   "id": "ae52c32b4bf51160",
   "metadata": {},
   "outputs": [],
   "source": [
    "import json\n",
    "\n",
    "\n",
    "CREDENTIALS = json.load(open(\"ticloud_credentials.json\"))\n",
    "USERNAME = CREDENTIALS.get(\"username\")\n",
    "PASSWORD = CREDENTIALS.get(\"password\")\n",
    "USER_AGENT = json.load(open('../user_agent.json'))[\"user_agent\"]"
   ]
  },
  {
   "cell_type": "markdown",
   "id": "196e6b9d48c82091",
   "metadata": {
    "collapsed": false
   },
   "source": [
    "### 3. Creating the CustomerUsage object\n",
    "Now we need to create the Python object for the CustomerUsage in order to use its quota displaying methods."
   ]
  },
  {
   "cell_type": "code",
   "execution_count": null,
   "id": "c583262e238c1e78",
   "metadata": {},
   "outputs": [],
   "source": [
    "customer_usage = CustomerUsage(\n",
    "    host=\"https://data.reversinglabs.com\",\n",
    "    username=USERNAME,\n",
    "    password=PASSWORD,\n",
    "    user_agent=USER_AGENT\n",
    ")"
   ]
  },
  {
   "cell_type": "markdown",
   "id": "6e6fbe4fe5f4902b",
   "metadata": {
    "collapsed": false
   },
   "source": [
    "### 4. Daily and monthly usage\n",
    "To see the daily and monthly usage, we will call the `daily_usage` and `monthly_usage` methods from the object that we created.  \n",
    "Each of those methods can display API usage information for a single account or for the whole company. To switch between those options, use `True` and `False` on the `whole_company` parameter.  \n",
    "Let's start with a date range on the daily usage method."
   ]
  },
  {
   "cell_type": "code",
   "execution_count": null,
   "id": "ac8926a3019bdc20",
   "metadata": {},
   "outputs": [],
   "source": [
    "daily_usage = customer_usage.daily_usage(\n",
    "    from_date=\"2023-10-01\",\n",
    "    to_date=\"2023-10-10\",\n",
    "    whole_company=False\n",
    ")\n",
    "\n",
    "print(daily_usage.text)"
   ]
  },
  {
   "cell_type": "markdown",
   "id": "7e045ace0e5ab1aa",
   "metadata": {
    "collapsed": false
   },
   "source": [
    "This returned API usage records from October 1st to October 10th 2023 for the current account that we are using to make this inquiry.  \n",
    "Now we will make a usage inquiry for our whole company inside a single month."
   ]
  },
  {
   "cell_type": "code",
   "execution_count": null,
   "id": "b9bfbad37d9ea736",
   "metadata": {},
   "outputs": [],
   "source": [
    "monthly_usage = customer_usage.monthly_usage(\n",
    "    single_month=\"2023-09\",\n",
    "    whole_company=True\n",
    ")\n",
    "\n",
    "print(monthly_usage.text)"
   ]
  },
  {
   "cell_type": "markdown",
   "id": "3309514d7efe67a9",
   "metadata": {
    "collapsed": false
   },
   "source": [
    "This gave us the API usage data for our whole company during the month of September in 2023.  \n",
    "**NOTE: `from` and `to` parameters are mutually exclusive with the `single` parameter when defining time periods.**"
   ]
  },
  {
   "cell_type": "markdown",
   "id": "c69c29ea0f183aac",
   "metadata": {
    "collapsed": false
   },
   "source": [
    "### 5. Date range usage\n",
    "This action returns total usage for all Spectra Intelligence product licenses with a fixed quota over a single date range. We will do this inquiry for our whole company."
   ]
  },
  {
   "cell_type": "code",
   "execution_count": null,
   "id": "b8208d6982b81529",
   "metadata": {},
   "outputs": [],
   "source": [
    "date_range_usage = customer_usage.date_range_usage(whole_company=True)\n",
    "\n",
    "print(date_range_usage.text)"
   ]
  },
  {
   "cell_type": "markdown",
   "id": "1d420ecec85844a9",
   "metadata": {
    "collapsed": false
   },
   "source": [
    "### 6. Active YARA rulesets\n",
    "Apart from only showing API usage, the CustomerUsage class can also show your active YARA rulesets in Spectra Intelligence."
   ]
  },
  {
   "cell_type": "code",
   "execution_count": null,
   "id": "40d2a93eecead997",
   "metadata": {},
   "outputs": [],
   "source": [
    "active_rulesets = customer_usage.active_yara_rulesets()\n",
    "\n",
    "print(active_rulesets.text)"
   ]
  }
 ],
 "metadata": {
  "language_info": {
   "name": "python"
  }
 },
 "nbformat": 4,
 "nbformat_minor": 5
}
