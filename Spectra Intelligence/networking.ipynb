{
 "cells": [
  {
   "cell_type": "markdown",
   "metadata": {
    "collapsed": false
   },
   "source": [
    "# Spectra Intelligence networking API-s\n",
    "This notebook contains code examples for the networking API-s.\n",
    "**NOTE:** If pasted into a Python file in the displayed order, all code cells can also work as a Python script."
   ]
  },
  {
   "cell_type": "markdown",
   "metadata": {
    "collapsed": false
   },
   "source": [
    "### Covered API classes\n",
    "This notebook covers examples for the following API classes:\n",
    "- **AnalyzeURL** (*TCA-0404 - Analyze URL*)\n",
    "- **URLThreatIntelligence** (*TCA-0403 - URL Threat Intelligence*)\n",
    "- **DomainThreatIntelligence** (*TCA-0405 - Domain Threat Intelligence*)\n",
    "- **IPThreatIntelligence** (*TCA-0406 - IP Threat Intelligence*)\n",
    "- **NetworkReputation** (*TCA-0407 - Network Reputation API*)\n",
    "- **NetworkReputationUserOverride** (*TCA-0408 - Network Reputation User Override API*)\n",
    "\n",
    "### Credentials\n",
    "Credentials are loaded from a local file instead of being written here in plain text.\n",
    "To learn how to creat the credentials file, see the **Storing and using the credentials** section in the [README file](./README.md)"
   ]
  },
  {
   "cell_type": "markdown",
   "metadata": {
    "collapsed": false
   },
   "source": [
    "### 1. Importing the required classes\n",
    "First, we will import the required API classes from the ticloud module."
   ]
  },
  {
   "cell_type": "code",
   "execution_count": null,
   "metadata": {},
   "outputs": [],
   "source": [
    "from ReversingLabs.SDK.ticloud import AnalyzeURL, URLThreatIntelligence, DomainThreatIntelligence, IPThreatIntelligence, NetworkReputation, NetworkReputationUserOverride"
   ]
  },
  {
   "cell_type": "markdown",
   "metadata": {
    "collapsed": false
   },
   "source": [
    "### 2. Loading the credentials\n",
    "Next, we will load our Spectra Intelligence credentials from the local `ticloud_credentials.json` file.\n",
    "**NOTE: Instead of doing this step, you can paste your credentials while creating the Python object in the following step.**"
   ]
  },
  {
   "cell_type": "code",
   "execution_count": null,
   "metadata": {},
   "outputs": [],
   "source": [
    "import json\n",
    "\n",
    "\n",
    "CREDENTIALS = json.load(open(\"ticloud_credentials.json\"))\n",
    "USERNAME = CREDENTIALS.get(\"username\")\n",
    "PASSWORD = CREDENTIALS.get(\"password\")\n",
    "USER_AGENT = json.load(open('../user_agent.json'))[\"user_agent\"]"
   ]
  },
  {
   "cell_type": "markdown",
   "metadata": {
    "collapsed": false
   },
   "source": [
    "### 3. Domain threat intelligence\n",
    "\n",
    "#### Domain report\n",
    "We will start by fetching threat intelligence data for a domain string. Let us say that the following domain has popped up in a recent analysis campaign someone performed: *\"kosmikband.com\"*\n",
    "\n",
    "To get a domain analysis report from a DomainThreatIntelligence object, we need to do the following:"
   ]
  },
  {
   "cell_type": "code",
   "execution_count": null,
   "metadata": {},
   "outputs": [],
   "source": [
    "DOMAIN = \"kosmikband.com\"\n",
    "\n",
    "domain_ti = DomainThreatIntelligence(\n",
    "    host=\"https://data.reversinglabs.com\",\n",
    "    username=USERNAME,\n",
    "    password=PASSWORD,\n",
    "    user_agent=USER_AGENT\n",
    ")\n",
    "\n",
    "domain_report = domain_ti.get_domain_report(domain=DOMAIN)\n",
    "\n",
    "report_text = domain_report.text\n",
    "print(report_text)"
   ]
  },
  {
   "cell_type": "markdown",
   "metadata": {
    "collapsed": false
   },
   "source": [
    "From the domain analysis report we can see that several reputation sources classified that domain as malicious. Also, we can see the list of top threats found withing that domain:\n",
    "```\n",
    "\"top_threats\": [\n",
    "            {\n",
    "                \"threat_name\": \"ByteCode-MSIL.Trojan.Generic\",\n",
    "                \"threat_level\": 5,\n",
    "                \"files_count\": 2\n",
    "            },\n",
    "            {\n",
    "                \"threat_name\": \"ByteCode-MSIL.Downloader.RemcosRAT\",\n",
    "                \"threat_level\": 3,\n",
    "                \"files_count\": 2\n",
    "            },\n",
    "            {\n",
    "                \"threat_name\": \"ByteCode-MSIL.Trojan.Seraph\",\n",
    "                \"threat_level\": 5,\n",
    "                \"files_count\": 1\n",
    "            },\n",
    "            {\n",
    "                \"threat_name\": \"Win32.Trojan.Generic\",\n",
    "                \"threat_level\": 5,\n",
    "                \"files_count\": 1\n",
    "            },\n",
    "            {\n",
    "                \"threat_name\": \"ByteCode-MSIL.Trojan.RealProtect\",\n",
    "                \"threat_level\": 5,\n",
    "                \"files_count\": 1\n",
    "            }\n",
    "        ]\n",
    "```\n",
    "\n",
    "#### Domain-to-IP resolutions\n",
    "Let us take the domain whose report we just analyzed and send it to the Domain-to-IP resolutions endpoint. This will give us a list of IP addresses into which our domain resolves."
   ]
  },
  {
   "cell_type": "code",
   "execution_count": null,
   "metadata": {},
   "outputs": [],
   "source": [
    "domain_to_ip = domain_ti.domain_to_ip_resolutions(domain=DOMAIN)\n",
    "\n",
    "domain_to_ip_text = domain_to_ip.text\n",
    "print(domain_to_ip_text)"
   ]
  },
  {
   "cell_type": "markdown",
   "metadata": {
    "collapsed": false
   },
   "source": [
    "In this particular case, we can see that our domain resolves into one IP address and that the provider of this resolution information is ReversingLabs.  \n",
    "Now we will parse the resolutions report and get that IP address from it."
   ]
  },
  {
   "cell_type": "code",
   "execution_count": null,
   "metadata": {},
   "outputs": [],
   "source": [
    "resolved_ips = domain_to_ip.json()\n",
    "resolutions = resolved_ips.get(\"rl\").get(\"resolutions\")\n",
    "IP_ADDR = resolutions[0].get(\"ip\")"
   ]
  },
  {
   "cell_type": "markdown",
   "metadata": {
    "collapsed": false
   },
   "source": [
    "Since we saw that we have only one IP address in that list, it is safe for us to simply fetch it using its position number.  \n",
    "Now we will store that IP address into the `ip_addr` variable for later use.\n",
    "\n",
    "\n",
    "### 4. IP threat intelligence\n",
    "To get a list of URL-s associated with an IP address, we can use the `urls_from_ip` method from the `IPThreatIntelligence` class.  \n",
    "The IP address is already stored in the `ip_addr` variable and can be used in our next step."
   ]
  },
  {
   "cell_type": "code",
   "execution_count": null,
   "metadata": {},
   "outputs": [],
   "source": [
    "ip_ti = IPThreatIntelligence(\n",
    "    host=\"https://data.reversinglabs.com\",\n",
    "    username=USERNAME,\n",
    "    password=PASSWORD,\n",
    "    user_agent=USER_AGENT\n",
    ")\n",
    "\n",
    "ip_urls = ip_ti.urls_from_ip(ip_address=IP_ADDR)\n",
    "\n",
    "ip_urls_text = ip_urls.text\n",
    "print(ip_urls_text)"
   ]
  },
  {
   "cell_type": "markdown",
   "metadata": {
    "collapsed": false
   },
   "source": [
    "The list of URL-s associated with our IP address is lengthy. If we want to gather all the valuable information about these URL-s from Spectra Intelligence, we need to fetch the analysis report for each of them. In order not to bomb our tutorial with thousands of lines of report, we will only fetch the analysis report for the first URL."
   ]
  },
  {
   "cell_type": "markdown",
   "metadata": {
    "collapsed": false
   },
   "source": [
    "### 5. URL threat intelligence\n",
    "The URL threat intelligence API also offers several different endpoints for URL analysis. We will demonstrate the results from two of them:\n",
    "\n",
    "#### URL report\n",
    "Since we know with confidence that our previously generated list of URL-s contains some entries (is not empty), we can safely parse out just the first URL from that list:\n"
   ]
  },
  {
   "cell_type": "code",
   "execution_count": null,
   "metadata": {},
   "outputs": [],
   "source": [
    "associated_urls = ip_urls.json()\n",
    "url_list = associated_urls.get(\"rl\").get(\"urls\")\n",
    "URL = url_list[0].get(\"url\")"
   ]
  },
  {
   "cell_type": "markdown",
   "metadata": {
    "collapsed": false
   },
   "source": [
    "After we have parsed out the URL that we need, we will create a `URLThreatIntelligence` object and fetch an analysis report for our URL."
   ]
  },
  {
   "cell_type": "code",
   "execution_count": null,
   "metadata": {},
   "outputs": [],
   "source": [
    "url_ti = URLThreatIntelligence(\n",
    "    host=\"https://data.reversinglabs.com\",\n",
    "    username=USERNAME,\n",
    "    password=PASSWORD,\n",
    "    user_agent=USER_AGENT\n",
    ")\n",
    "\n",
    "url_report = url_ti.get_url_report(url_input=URL)\n",
    "\n",
    "report_text = url_report.text\n",
    "print(report_text)"
   ]
  },
  {
   "cell_type": "markdown",
   "metadata": {
    "collapsed": false
   },
   "source": [
    "In this report output we can see the following interesting data:\n",
    "- Third party reputation sources - A list of third party reputation services and their classification of the provided URL.\n",
    "- Analysis history - A list of timestamped analyses of the provided URL.\n",
    "- Both the third party reputations and the analysis sections of the report also contain statistics lists which show how many sources returned which classification.\n",
    "- An overall classification of the provided URL, alongside the reason for that classification.\n",
    "\n",
    "#### Downloaded files\n",
    "Now we will fetch the list of files downloaded from our URL. Each listed file can also contain its reputation information."
   ]
  },
  {
   "cell_type": "code",
   "execution_count": null,
   "metadata": {},
   "outputs": [],
   "source": [
    "dl_files = url_ti.get_downloaded_files(url_input=URL)\n",
    "\n",
    "dl_files_text = dl_files.text\n",
    "print(dl_files_text)"
   ]
  },
  {
   "cell_type": "markdown",
   "metadata": {
    "collapsed": false
   },
   "source": [
    "Here we can see a list of files found on our URL that were downloaded and analyzed by ReversingLabs. Each listed file also has its own reputation information. Although the files downloaded from a URL end up classified as `KNOWN`, that does not mean that the domain, IP addresses nor URL-s on which they have been found can be treated as safe. There are other mechanisms and rules for classifying those entities besides just analyzing the files found on them."
   ]
  },
  {
   "cell_type": "markdown",
   "metadata": {
    "collapsed": false
   },
   "source": [
    "### 6. Analyze URL\n",
    "In case there are no threat intelligence results available for a URL, we can always request them.  \n",
    "To send a URL for detailed analysis, use the `AnalyzeURL` class."
   ]
  },
  {
   "cell_type": "code",
   "execution_count": null,
   "metadata": {},
   "outputs": [],
   "source": [
    "analyze = AnalyzeURL(\n",
    "    host=\"https://data.reversinglabs.com\",\n",
    "    username=USERNAME,\n",
    "    password=PASSWORD,\n",
    "    user_agent=USER_AGENT\n",
    ")\n",
    "\n",
    "analyze_response = analyze.submit_url(url_input=URL)\n",
    "\n",
    "analyze_response_text = analyze_response.text\n",
    "print(analyze_response_text)"
   ]
  },
  {
   "cell_type": "markdown",
   "metadata": {
    "collapsed": false
   },
   "source": []
  },
  {
   "cell_type": "markdown",
   "metadata": {
    "collapsed": false
   },
   "source": [
    "If the action was successful, we will see a response which confirms us that the URL was **submitted** for analysis.  \n",
    "Usually a fresh analysis takes some time to finish, depending on the complexity of the provided URL. You can check the completion of the report along the way.\n",
    "\n",
    "After the URL analysis is done, we can again fetch any of the available info generated from analyzing the provided URL.\n"
   ]
  },
  {
   "cell_type": "markdown",
   "metadata": {
    "collapsed": false
   },
   "source": [
    "### 7. Network Reputation\n",
    "Aside from doing extensive network indicator analysis with the aforementioned API-s, you can also request a very straightforward and concise network reputation request for URL-s, domains and IP addresses. See the following example:"
   ]
  },
  {
   "cell_type": "code",
   "execution_count": null,
   "metadata": {},
   "outputs": [],
   "source": [
    "network_reputation = NetworkReputation(\n",
    "    host=\"https://data.reversinglabs.com\",\n",
    "    username=USERNAME,\n",
    "    password=PASSWORD,\n",
    "    user_agent=USER_AGENT\n",
    ")\n",
    "\n",
    "reputation_response = network_reputation.get_network_reputation(network_locations=[URL])\n",
    "\n",
    "reputation_response_text = reputation_response.text\n",
    "print(reputation_response_text)"
   ]
  },
  {
   "cell_type": "markdown",
   "metadata": {
    "collapsed": false
   },
   "source": [
    "### 8. Network Reputation User Override\n",
    "The Network Reputation User Override API goes hand in hand with the Network Reputation API. What it does is **set your desired classification value** onto a URL indicator. This custom classification is applicable on samples available to your Spectra Intelligence account.  \n",
    "Possible classification values, as always, are **MALICIOUS**, **SUSPICIOUS** and **KNOWN**.  \n",
    "Other functionalities of this API include **listing the active overrides** and **removing active overrides**. See the below examples of each of those functionalities.\n",
    "\n",
    "**NOTE:** Unlike the Network Reputation API, this API currently accepts only URL indicators as they are the only ones that return a ReversingLabs classification value in their reputation report.\n",
    "\n",
    "#### Set Reputation Override"
   ]
  },
  {
   "cell_type": "code",
   "execution_count": null,
   "metadata": {},
   "outputs": [],
   "source": [
    "reputation_override = NetworkReputationUserOverride(\n",
    "    host=\"https://data.reversinglabs.com\",\n",
    "    username=USERNAME,\n",
    "    password=PASSWORD,\n",
    "    user_agent=USER_AGENT\n",
    ")\n",
    "\n",
    "url_indicator = {\n",
    "    \"network_location\": URL,\n",
    "    \"classification\": \"SUSPICIOUS\",\n",
    "    \"type\": \"url\"\n",
    "}\n",
    "\n",
    "override_response = reputation_override.reputation_override(override_list=[url_indicator])\n",
    "print(override_response.text)"
   ]
  },
  {
   "cell_type": "markdown",
   "metadata": {
    "collapsed": false
   },
   "source": [
    "Here we can see that our custom classification for this URL indicator is set to \"SUSPICIOUS\" within our Spectra Intelligence account."
   ]
  },
  {
   "cell_type": "markdown",
   "metadata": {
    "collapsed": false
   },
   "source": [
    "#### List Active Reputation Overrides\n",
    "The result of this action shows that we have an active reputation override set for our selected URL indicator."
   ]
  },
  {
   "cell_type": "code",
   "execution_count": null,
   "metadata": {},
   "outputs": [],
   "source": [
    "override_response = reputation_override.list_overrides_aggregated()\n",
    "print(override_response)"
   ]
  },
  {
   "cell_type": "markdown",
   "metadata": {
    "collapsed": false
   },
   "source": [
    "#### Remove Active Reputation Override\n",
    "This action's result shows that we have successfully removed our custom reputation override for the desired URL indicator."
   ]
  },
  {
   "cell_type": "code",
   "execution_count": null,
   "metadata": {},
   "outputs": [],
   "source": [
    "url_indicator = {\n",
    "    \"network_location\": URL,\n",
    "    \"type\": \"url\"\n",
    "}\n",
    "\n",
    "override_response = reputation_override.reputation_override(remove_overrides_list=[url_indicator])\n",
    "print(override_response.text)"
   ]
  },
  {
   "cell_type": "markdown",
   "metadata": {
    "collapsed": false
   },
   "source": [
    "### 9. Advanced\n",
    "In case you want to configure any pre-set additional parameters in any of the demonstrated methods or if you want to use the methods that hande paging automatically, check the [7. Advanced](./file_reputation_and_analysis.ipynb) section in the reputation notebook."
   ]
  }
 ],
 "metadata": {
  "language_info": {
   "name": "python"
  }
 },
 "nbformat": 4,
 "nbformat_minor": 0
}
