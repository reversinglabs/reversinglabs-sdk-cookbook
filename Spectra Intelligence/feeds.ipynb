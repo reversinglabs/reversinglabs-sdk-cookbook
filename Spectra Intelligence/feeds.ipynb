{
 "cells": [
  {
   "cell_type": "markdown",
   "id": "bb006d39ef36e335",
   "metadata": {
    "collapsed": false
   },
   "source": [
    "# Spectra Intelligence feeds\n",
    "This notebook demonstrates how to use several Intelligence feed API-s (feeds). Those API-s are called feeds due to providing continuous fresh data that can be fetched by applying certain filters and time periods.\n",
    "**NOTE:** If pasted into a Python file in the displayed order, all code cells can also work as a Python script."
   ]
  },
  {
   "cell_type": "markdown",
   "id": "718dba302a79d943",
   "metadata": {
    "collapsed": false
   },
   "source": [
    "### Covered API classes\n",
    "This notebook covers examples for the following API classes:\n",
    "- **NewMalwareFilesFeed** (*TCF-0101 New Malware - Files*)\n",
    "- **MWPChangeEventsFeed** (*TCF-0111 MWP Change Events Feed*)\n",
    "- **NewMalwarePlatformFiltered** (*TCF-0102-0106 New Malware - Platform-Filtered*)\n",
    "    - This feed covers product numbers **from TCF-0102 to TCF-0106** and requires separate access rights for each of them.\n",
    "\n",
    "\n",
    "### Credentials\n",
    "Credentials are loaded from a local file instead of being written here in plain text.\n",
    "To learn how to creat the credentials file, see the **Storing and using the credentials** section in the [README file](./README.md)"
   ]
  },
  {
   "cell_type": "markdown",
   "id": "2402e10fb3109030",
   "metadata": {
    "collapsed": false
   },
   "source": [
    "### 1. Importing the required classes\n",
    "First, we will import the required API class from the ticloud module."
   ]
  },
  {
   "cell_type": "code",
   "execution_count": null,
   "id": "6a326a903331cb83",
   "metadata": {},
   "outputs": [],
   "source": [
    "from ReversingLabs.SDK.ticloud import NewMalwareFilesFeed, MWPChangeEventsFeed, NewMalwarePlatformFiltered"
   ]
  },
  {
   "cell_type": "markdown",
   "id": "cddad0fbc438529f",
   "metadata": {
    "collapsed": false
   },
   "source": [
    "### 2. Loading the credentials\n",
    "Next, we will load our Intelligence credentials from the local `ticloud_credentials.json` file.  \n",
    "**NOTE: Instead of doing this step, you can paste your credentials while creating the Python object in the following step.**"
   ]
  },
  {
   "cell_type": "code",
   "execution_count": null,
   "id": "aea1f3a9cce0ca2d",
   "metadata": {},
   "outputs": [],
   "source": [
    "import json\n",
    "\n",
    "\n",
    "CREDENTIALS = json.load(open(\"ticloud_credentials.json\"))\n",
    "USERNAME = CREDENTIALS.get(\"username\")\n",
    "PASSWORD = CREDENTIALS.get(\"password\")\n",
    "USER_AGENT = json.load(open('../user_agent.json'))[\"user_agent\"]"
   ]
  },
  {
   "cell_type": "markdown",
   "id": "6dac8032e2d27b2a",
   "metadata": {
    "collapsed": false
   },
   "source": [
    "### 3. New Malware - Files Feed\n",
    "This feed provides a continuous list of new samples with at least one antivirus scanner detection present in the Spectra Intelligence system.  \n",
    "After we create an object from the NewMalwareFilesFeed class, we will be able to use its methods."
   ]
  },
  {
   "cell_type": "code",
   "execution_count": null,
   "id": "1cd6387c470ad4a0",
   "metadata": {},
   "outputs": [],
   "source": [
    "new_malware_files = NewMalwareFilesFeed(\n",
    "    host=\"https://data.reversinglabs.com\",\n",
    "    username=USERNAME,\n",
    "    password=PASSWORD,\n",
    "    user_agent=USER_AGENT\n",
    ")"
   ]
  },
  {
   "cell_type": "markdown",
   "id": "7938fd7c58534127",
   "metadata": {
    "collapsed": false
   },
   "source": [
    "#### Pulling with a defined timestamp\n",
    "To pull the samples with a defined timestamp in the request we can do the following action. This will return the samples from the defined timestamp onwards. The time value can be defined as a Unix timestamp or as UTC time. Here we will demonstrate the use of a Unix timestamp.  \n",
    "**NOTE:** Make sure to change this timestamp to a preferred date instead before running this code cell."
   ]
  },
  {
   "cell_type": "code",
   "execution_count": null,
   "id": "13e9fd79e643d636",
   "metadata": {},
   "outputs": [],
   "source": [
    "response = new_malware_files.pull_with_timestamp(\n",
    "    time_format=\"timestamp\",\n",
    "    time_value=\"1697459211\"\n",
    ")\n",
    "\n",
    "print(response.text)"
   ]
  },
  {
   "cell_type": "markdown",
   "id": "28c4741c23437d17",
   "metadata": {
    "collapsed": false
   },
   "source": [
    "#### Setting the start time\n",
    "Instead of defining the timestamp in our pull request, we can first define the start time for fetching samples and then continunously pull them using a separate method."
   ]
  },
  {
   "cell_type": "code",
   "execution_count": null,
   "id": "b4d51de074ecb9c8",
   "metadata": {},
   "outputs": [],
   "source": [
    "_ = new_malware_files.set_start(\n",
    "    time_format=\"timestamp\",\n",
    "    time_value=\"1697459211\"\n",
    ")\n",
    "\n",
    "response = new_malware_files.pull()\n",
    "\n",
    "print(response.text)"
   ]
  },
  {
   "cell_type": "markdown",
   "id": "b63830a5da8ff1a5",
   "metadata": {
    "collapsed": false
   },
   "source": [
    "### 4. MWP Change Events Feed\n",
    "The MWP (Malware Presence) Change Events Feed provides a continuous list of new malicious samples, false positives and malicious samples for which the ReversingLabs threat name changed.\n",
    "After we create an object from the MWPChangeEventsFeed class, we will be able to use its methods."
   ]
  },
  {
   "cell_type": "markdown",
   "id": "5e1732a49c9ef10c",
   "metadata": {
    "collapsed": false
   },
   "source": [
    "Inside the ReversingLabs SDK, the MWP Change Events Feed is used precisely the same way as the New Malware - Files Feed:\n",
    "- You create the feed object from the `MWPChangeEventsFeed` class.\n",
    "- You can perform a query that carries a timestamp each time:\n",
    "    - `pull_with_timestamp()\n",
    "- You can perform a `start()` query to set a starting timestamp and then perform a `pull()` query to start fetching the samples.\n",
    "\n",
    "Please refer to section 3. for more detail on how to use such queries."
   ]
  },
  {
   "cell_type": "markdown",
   "id": "316bb188f00e1bb9",
   "metadata": {
    "collapsed": false
   },
   "source": [
    "### 5. New Malware - Platform Filtered\n",
    "This feed returns new detected malware filtered for each selected platform (Android, Boot, ByteCode, Document, DOS, Linux, Win32, ...).  \n",
    "In this case the feed has a whole range of product names (TCF-0102 to TCF-0106) because usage rights are acquired separately for the mentioned platforms."
   ]
  },
  {
   "cell_type": "markdown",
   "id": "ed287642e08a4a6a",
   "metadata": {
    "collapsed": false
   },
   "source": [
    "#### Feed query\n",
    "If we use the feed query method, we will be making a fetch request for new malware and also providing a start timestamp for this action with each request.  \n",
    "The platform filtering is optional but affects the results that we get.  \n",
    "In our example we will be fetching the results for the Android, Linux and Win32 platforms. Defining the starting timestamp is done the same way as in other feeds in this notebook.  \n",
    "**NOTE:** Make sure to change the timestamp to a preferred date instead before running this code cell."
   ]
  },
  {
   "cell_type": "code",
   "execution_count": null,
   "id": "62ee78d14cf5be7c",
   "metadata": {},
   "outputs": [],
   "source": [
    "platform_filtered_feed = NewMalwarePlatformFiltered(\n",
    "    host=\"https://data.reversinglabs.com\",\n",
    "    username=USERNAME,\n",
    "    password=PASSWORD,\n",
    "    user_agent=USER_AGENT\n",
    ")\n",
    "\n",
    "results = platform_filtered_feed.feed_query(\n",
    "    time_format=\"timestamp\",\n",
    "    time_value=\"1697459211\",\n",
    "    platforms=[\"Android\", \"Linux\", \"Win32\"]\n",
    ")\n",
    "\n",
    "print(results.text)"
   ]
  },
  {
   "cell_type": "markdown",
   "id": "68d07daf28b27517",
   "metadata": {
    "collapsed": false
   },
   "source": [
    "#### Setting the start time\n",
    "Just like in the New Malware - Files Feed, we can also set a starting timestamp and then pull all the filtered malware samples from that time onwards with separate requests."
   ]
  },
  {
   "cell_type": "code",
   "execution_count": null,
   "id": "4f0550f2e4095495",
   "metadata": {},
   "outputs": [],
   "source": [
    "_ = platform_filtered_feed.start_query(\n",
    "    time_format=\"timestamp\",\n",
    "    time_value=\"1697459211\"\n",
    ")\n",
    "\n",
    "results = platform_filtered_feed.pull_query(\n",
    "    platforms=[\"Android\", \"Linux\", \"Win32\"]\n",
    ")\n",
    "\n",
    "print(results.text)"
   ]
  },
  {
   "cell_type": "markdown",
   "id": "8aeb8efe878f2017",
   "metadata": {
    "collapsed": false
   },
   "source": [
    "A full list of available platforms for filtering the results can be found in the official documentation of the New Malware - Platform Filtered feed.  \n",
    "Keep in mind that the platforms defined in the `platforms` parameter dictate the product name and querying rights."
   ]
  }
 ],
 "metadata": {
  "language_info": {
   "name": "python"
  }
 },
 "nbformat": 4,
 "nbformat_minor": 5
}
