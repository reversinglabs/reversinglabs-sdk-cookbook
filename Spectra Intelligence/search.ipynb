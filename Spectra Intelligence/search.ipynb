{
 "cells": [
  {
   "cell_type": "markdown",
   "id": "b099c7de15190cc5",
   "metadata": {
    "collapsed": false
   },
   "source": [
    "# Spectra Intelligence search API-s\n",
    "This notebook guides the user in using the Spectra Intelligence search API-s.  \n",
    "**NOTE:** If pasted into a Python file in the displayed order, all code cells can also work as a Python script."
   ]
  },
  {
   "cell_type": "markdown",
   "id": "cc360bfa80c799d",
   "metadata": {
    "collapsed": false
   },
   "source": [
    "### Covered API classes\n",
    "This notebook covers examples for the following API class:\n",
    "- **AdvancedSearch** (*TCA-0320 - Advanced Search*)\n",
    "- **ExpressionSearch** (*TCA-0306 - Expression Search with Statistics (Sample Search)*)\n",
    "\n",
    "### Credentials\n",
    "Credentials are loaded from a local file instead of being written here in plain text.\n",
    "To learn how to creat the credentials file, see the **Storing and using the credentials** section in the [README file](./README.md)"
   ]
  },
  {
   "cell_type": "markdown",
   "id": "92aee536ed022100",
   "metadata": {
    "collapsed": false
   },
   "source": [
    "### 1. Importing the required classes\n",
    "First, we will import the required API class from the ticloud module."
   ]
  },
  {
   "cell_type": "code",
   "execution_count": null,
   "id": "ef2958b791c05fcd",
   "metadata": {},
   "outputs": [],
   "source": [
    "from ReversingLabs.SDK.ticloud import AdvancedSearch, ExpressionSearch"
   ]
  },
  {
   "cell_type": "markdown",
   "id": "ba95885e2f4d534f",
   "metadata": {
    "collapsed": false
   },
   "source": [
    "### 2. Loading the credentials\n",
    "Next, we will load our Spectra Intelligence credentials from the local `ticloud_credentials.json` file.\n",
    "**NOTE: Instead of doing this step, you can paste your credentials while creating the Python object in the following step.**"
   ]
  },
  {
   "cell_type": "code",
   "execution_count": null,
   "id": "5be30ea623a956af",
   "metadata": {},
   "outputs": [],
   "source": [
    "import json\n",
    "\n",
    "\n",
    "CREDENTIALS = json.load(open(\"ticloud_credentials.json\"))\n",
    "USERNAME = CREDENTIALS.get(\"username\")\n",
    "PASSWORD = CREDENTIALS.get(\"password\")\n",
    "USER_AGENT = json.load(open('../user_agent.json'))[\"user_agent\"]"
   ]
  },
  {
   "cell_type": "markdown",
   "id": "7a4c81c018a42579",
   "metadata": {
    "collapsed": false
   },
   "source": [
    "### 3. Using the Advanced Search\n",
    "The `search` method of the AdvancedSearch class uses a string with space-separated key/value pairs to filter results.\n",
    "We will use the Advanced Search API to find samples in Spectra Intelligence using the following criteria."
   ]
  },
  {
   "cell_type": "markdown",
   "id": "19d44f763b081a3c",
   "metadata": {
    "collapsed": false
   },
   "source": [
    "#### Available samples with 5 AV scanner results\n",
    "To fetch all the samples with 5 AV scanner results that are also available for download from Spectra Intelligence, do the following:"
   ]
  },
  {
   "cell_type": "code",
   "execution_count": null,
   "id": "c9f879d4010e4b73",
   "metadata": {},
   "outputs": [],
   "source": [
    "advanced_search = AdvancedSearch(\n",
    "    host=\"https://data.reversinglabs.com\",\n",
    "    username=USERNAME,\n",
    "    password=PASSWORD,\n",
    "    user_agent=USER_AGENT\n",
    ")\n",
    "\n",
    "results = advanced_search.search(\n",
    "    query_string=\"av-count:5 available:TRUE\"\n",
    ")\n",
    "\n",
    "print(results.text)"
   ]
  },
  {
   "cell_type": "markdown",
   "id": "269f573fe454a503",
   "metadata": {
    "collapsed": false
   },
   "source": [
    "This returned a maximum number of samples for one page of results according to the search criteria that we defined:\n",
    "- The number of AV scanners that returned results for the samples needs to be 5\n",
    "- The samples must be available for download "
   ]
  },
  {
   "cell_type": "markdown",
   "id": "ff2d31a8154ee7f4",
   "metadata": {
    "collapsed": false
   },
   "source": [
    "#### Suspicious samples with a threat level from 0 to 2"
   ]
  },
  {
   "cell_type": "code",
   "execution_count": null,
   "id": "192ed61fa502d7c1",
   "metadata": {},
   "outputs": [],
   "source": [
    "results = advanced_search.search(\n",
    "    query_string=\"classification:suspicious threatlevel:[0 TO 2]\"\n",
    ")\n",
    "\n",
    "print(results.text)"
   ]
  },
  {
   "cell_type": "markdown",
   "id": "828157959e41e73a",
   "metadata": {
    "collapsed": false
   },
   "source": [
    "This query returned a maximum number of samples for one page of results according to the search criteria that we defined:\n",
    "- The samples need to be classified as \"suspicious\"\n",
    "- Their threat level needs to be from 0 to 2"
   ]
  },
  {
   "cell_type": "markdown",
   "id": "70b14050c9300b2e",
   "metadata": {
    "collapsed": false
   },
   "source": [
    "### 4. Using the Expression Search\n",
    "Now we will use the ExpressionSearch class to filter out results and return them using the `search` method of this class.\n",
    "The search parameters for this class need to be formatted as a list of key/value pair strings."
   ]
  },
  {
   "cell_type": "markdown",
   "id": "907e3927571251d0",
   "metadata": {
    "collapsed": false
   },
   "source": [
    "#### Malicious samples of a specific malware family\n",
    "What we need now is malicious samples of one of a specific malware family defined by CVE: CVE-2017-11882  \n",
    "**NOTE: Make sure to set up a date in the \"yyyy-MM-dd\" format. This date will define the day onwards from which the results will be returned.**"
   ]
  },
  {
   "cell_type": "code",
   "execution_count": null,
   "id": "7d9514a28720f51b",
   "metadata": {},
   "outputs": [],
   "source": [
    "expression_search = ExpressionSearch(\n",
    "    host=\"https://data.reversinglabs.com\",\n",
    "    username=USERNAME,\n",
    "    password=PASSWORD,\n",
    "    user_agent=USER_AGENT\n",
    ")\n",
    "\n",
    "results = expression_search.search(\n",
    "    query=[\n",
    "        \"status=MALICIOUS\",\n",
    "        \"malware_family=CVE-2017-11882'\"\n",
    "    ],\n",
    "    date=\"2023-10-16\"\n",
    ")\n",
    "\n",
    "print(results.text)"
   ]
  },
  {
   "cell_type": "markdown",
   "id": "24d27d6ba7c09462",
   "metadata": {
    "collapsed": false
   },
   "source": [
    "### 5. Paging and additional parameters\n",
    "Like many other ReversingLabs API-s inside the SDK, the search API-s offer the option to automatically handle paging. Besides only paging, there are also several other options that can be used to refine your search.  \n",
    "Let us demonstrate those options using the AdvancedSearch object we created."
   ]
  },
  {
   "cell_type": "code",
   "execution_count": null,
   "id": "b932b4ff1c5c66a8",
   "metadata": {},
   "outputs": [],
   "source": [
    "search_results = advanced_search.search_aggregated(\n",
    "    query_string=\"av-count:5 available:TRUE\",\n",
    "    sorting_criteria=\"firstseen\",\n",
    "    sorting_order=\"desc\",\n",
    "    records_per_page=10,\n",
    "    max_results=50\n",
    ")\n",
    "\n",
    "print(search_results)"
   ]
  },
  {
   "cell_type": "markdown",
   "id": "f8912c5185b1d00b",
   "metadata": {
    "collapsed": false
   },
   "source": [
    "Our results now returned the following data:\n",
    "- The number of AV scanners that returned results for the samples is 5\n",
    "- The samples are available for download\n",
    "- The 'first seen' date is taken as the sorting criteria\n",
    "- Results are returned in the descending order\n",
    "- The maximum number of returned results is 50 with 10 results returned per page\n",
    "\n",
    "Instead of returning a response object, the paging method return a Python list of results"
   ]
  }
 ],
 "metadata": {
  "language_info": {
   "name": "python"
  }
 },
 "nbformat": 4,
 "nbformat_minor": 5
}
