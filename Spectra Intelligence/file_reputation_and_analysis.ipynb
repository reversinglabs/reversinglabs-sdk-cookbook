{
 "cells": [
  {
   "cell_type": "markdown",
   "metadata": {
    "collapsed": false
   },
   "source": [
    "# Essential Spectra Intelligence file analysis and reputation API-s\n",
    "This notebook contains specific examples for the essential Spectra Intelligence file reputation and analysis-related API-s.\n",
    "**NOTE:** If pasted into a Python file in the displayed order, all code cells can also work as a Python script."
   ]
  },
  {
   "cell_type": "markdown",
   "metadata": {
    "collapsed": false
   },
   "source": [
    "### Covered API classes\n",
    "This notebook covers examples for the following API classes:\n",
    "- **FileReputation** (*TCA-0101 - File Reputation (Malware Presence)*)\n",
    "- **AVScanners** (*TCA-0103 - Historic Multi-AV Scan Records*)\n",
    "- **FileAnalysis** (*TCA-0104 - File Analysis - Hash*)\n",
    "- **RHA1FunctionalSimilarity** (*TCA-0301 - RHA Functional Similarity (Group by RHA1)*)\n",
    "\n",
    "### Credentials\n",
    "Credentials are loaded from a local file instead of being written here in plain text.\n",
    "To learn how to creat the credentials file, see the **Storing and using the credentials** section in the [README file](./README.md)"
   ]
  },
  {
   "cell_type": "markdown",
   "metadata": {
    "collapsed": false
   },
   "source": [
    "### 1. Importing the required classes\n",
    "First, we will import the required API classes from the ticloud module."
   ]
  },
  {
   "cell_type": "code",
   "execution_count": null,
   "metadata": {},
   "outputs": [],
   "source": [
    "from ReversingLabs.SDK.ticloud import FileReputation, AVScanners, FileAnalysis, RHA1FunctionalSimilarity"
   ]
  },
  {
   "cell_type": "markdown",
   "metadata": {
    "collapsed": false
   },
   "source": [
    "### 2. Loading the credentials\n",
    "Next, we will load our Spectra Intelligence credentials from the local `ticloud_credentials.json` file.\n",
    "**NOTE: Instead of doing this step, you can paste your credentials while creating the Python object in the following step.**\n",
    "\n",
    "Also, we will store the SHA-1 hash of a file we want to investigate into a variable called `FILE_HASH`."
   ]
  },
  {
   "cell_type": "code",
   "execution_count": null,
   "metadata": {},
   "outputs": [],
   "source": [
    "import json\n",
    "\n",
    "\n",
    "CREDENTIALS = json.load(open(\"ticloud_credentials.json\"))\n",
    "USERNAME = CREDENTIALS.get(\"username\")\n",
    "PASSWORD = CREDENTIALS.get(\"password\")\n",
    "USER_AGENT = json.load(open('../user_agent.json'))[\"user_agent\"]\n",
    "\n",
    "FILE_HASH = \"21841b32c6165b27dddbd4d6eb3a672defe54271\""
   ]
  },
  {
   "cell_type": "markdown",
   "metadata": {
    "collapsed": false
   },
   "source": [
    "### 3. Fetching the file reputation\n",
    "Next, we will create our first object out of the FileReputation class: file_reputation"
   ]
  },
  {
   "cell_type": "code",
   "execution_count": null,
   "metadata": {},
   "outputs": [],
   "source": [
    "file_reputation = FileReputation(\n",
    "    host=\"https://data.reversinglabs.com\",\n",
    "    username=USERNAME,\n",
    "    password=PASSWORD,\n",
    "    user_agent=USER_AGENT\n",
    ")"
   ]
  },
  {
   "cell_type": "markdown",
   "metadata": {
    "collapsed": false
   },
   "source": [
    "We will now use our `file_reputation` object to do a reputation lookup for the hash of our potentially malicious file."
   ]
  },
  {
   "cell_type": "code",
   "execution_count": null,
   "metadata": {},
   "outputs": [],
   "source": [
    "reputation = file_reputation.get_file_reputation(\n",
    "    hash_input=FILE_HASH\n",
    ")\n",
    "\n",
    "reputation_text = reputation.text\n",
    "print(reputation_text)"
   ]
  },
  {
   "cell_type": "markdown",
   "metadata": {
    "collapsed": false
   },
   "source": [
    "Now we have the file reputation response stored in the `reputation` variable and also printed out in the console in text form.\n",
    "Among other information, from the file reputation response we can see the following:\n",
    "- This file is malicious - `\"status\": \"MALICIOUS\"`\n",
    "- Its threat name is Win32.Ransomware.Tox - `\"threat_name\": \"Win32.Ransomware.Tox\"`\n",
    "- There is a certain number of AV scanners, out of a total number of available AV scanners, that declared this file as harmful - `\"scanner_match\": 35`\n",
    "\n",
    "### 4. Fetching the AV scanner results\n",
    "These results provide malware detection verdicts of multiple antivirus scanners from the Spectra Intelligence.\n",
    "To see which AV scanners declared the file as harmful, we can use the AVScanners class.\n",
    "To do so, we will again create an object:"
   ]
  },
  {
   "cell_type": "code",
   "execution_count": null,
   "metadata": {},
   "outputs": [],
   "source": [
    "av_scanners = AVScanners(\n",
    "    host=\"https://data.reversinglabs.com\",\n",
    "    username=USERNAME,\n",
    "    password=PASSWORD,\n",
    "    user_agent=USER_AGENT\n",
    ")"
   ]
  },
  {
   "cell_type": "markdown",
   "metadata": {
    "collapsed": false
   },
   "source": [
    "Now that we have our `av_scanners` object, we can fetch the AV scanner results from the API."
   ]
  },
  {
   "cell_type": "code",
   "execution_count": null,
   "metadata": {},
   "outputs": [],
   "source": [
    "scanner_results = av_scanners.get_scan_results(\n",
    "    hash_input=FILE_HASH\n",
    ")\n",
    "\n",
    "results_text = scanner_results.text\n",
    "print(results_text)"
   ]
  },
  {
   "cell_type": "markdown",
   "metadata": {
    "collapsed": false
   },
   "source": [
    "To see which scanners were available, navigate to `\"rl\" -> \"sample -> \"xref\" -> \"scanners\"`  \n",
    "To see the verdict returned by each scanner, navigate to `\"rl\" -> \"sample -> \"xref\" -> \"results\"`  \n",
    "\n",
    "Other useful information included in the AV scanners report:\n",
    "- `\"sample_type\": \"PE32 executable (GUI) Intel 80386 (stripped to external PDB), for MS Windows, UPX compressed\"`\n",
    "- `\"sample_size\": 636416`\n",
    "\n",
    "### 5. Fetching the file analysis results\n",
    "To view the static analysis details of our malicious file, we can use the FileAnalysis class:"
   ]
  },
  {
   "cell_type": "code",
   "execution_count": null,
   "metadata": {},
   "outputs": [],
   "source": [
    "analysis = FileAnalysis(\n",
    "    host=\"https://data.reversinglabs.com\",\n",
    "    username=USERNAME,\n",
    "    password=PASSWORD,\n",
    "    user_agent=USER_AGENT\n",
    ")\n",
    "\n",
    "analysis_results = analysis.get_analysis_results(\n",
    "    hash_input=FILE_HASH\n",
    ")\n",
    "\n",
    "analysis_text = analysis_results.text\n",
    "print(analysis_text)"
   ]
  },
  {
   "cell_type": "markdown",
   "metadata": {
    "collapsed": false
   },
   "source": [
    "By reading the analysis results, we can get the following useful information:\n",
    "- `\"sample_size\": 636416`\n",
    "- `\"tc_report\"` - a static analysis report created by TitaniumCore\n",
    "    - `\"file_type\": \"PE\"`\n",
    "    - `\"file_subtype\": \"Exe\"`\n",
    "    - `\"story\"` - a verbose and human-readable description of this file\n",
    "    - `\"dynamic_analysis\"` - dynamic analysis results from various cloud sandboxes\n",
    "\n",
    "\n",
    "### 6. Getting the hashes of functionally similar files\n",
    "Additionally, we can send use the RHA1FunctionalSimilarity class to get a list of files that are functionally similar to the malicious file that we are analyzing.  \n",
    "Each file is represented by its SHA-1 hash."
   ]
  },
  {
   "cell_type": "code",
   "execution_count": null,
   "metadata": {},
   "outputs": [],
   "source": [
    "similarity = RHA1FunctionalSimilarity(\n",
    "    host=\"https://data.reversinglabs.com\",\n",
    "    username=USERNAME,\n",
    "    password=PASSWORD,\n",
    "    user_agent=USER_AGENT\n",
    ")\n",
    "\n",
    "similarity_results = similarity.get_similar_hashes(\n",
    "    hash_input=FILE_HASH\n",
    ")\n",
    "\n",
    "similarity_text = similarity_results.text\n",
    "print(similarity_text)"
   ]
  },
  {
   "cell_type": "markdown",
   "metadata": {
    "collapsed": false
   },
   "source": [
    "This gives us a report with only the first page of results. If we want a **complete** list of similar files, we need to use the `get_similar_hashes_aggregated` method.  \n",
    "The full list is returned as a Python `list` type, rather than a response object.\n",
    "Example:"
   ]
  },
  {
   "cell_type": "code",
   "execution_count": null,
   "metadata": {},
   "outputs": [],
   "source": [
    "all_pages = similarity.get_similar_hashes_aggregated(\n",
    "    hash_input=FILE_HASH\n",
    ")\n",
    "\n",
    "print(all_pages)"
   ]
  },
  {
   "cell_type": "markdown",
   "metadata": {
    "collapsed": false
   },
   "source": [
    "\n",
    "### 7. Advanced\n",
    "**Additional parameters** in that method give us the following options:\n",
    "- `extended_results` - show the extended results\n",
    "- `classification` - return only files of this classification\n",
    "- `max_results` - the maximum number of files we want\n",
    "- `results_per_page` - the number of files per each page (request) we want, until we reach the `max_results`\n",
    "\n",
    "Example:"
   ]
  },
  {
   "cell_type": "code",
   "execution_count": null,
   "metadata": {},
   "outputs": [],
   "source": [
    "all_pages = similarity.get_similar_hashes_aggregated(\n",
    "    hash_input=FILE_HASH,\n",
    "    extended_results=True,\n",
    "    classification=\"MALICIOUS\",\n",
    "    max_results=300,\n",
    "    results_per_page=50\n",
    ")\n",
    "\n",
    "print(all_pages)"
   ]
  },
  {
   "cell_type": "markdown",
   "metadata": {
    "collapsed": false
   },
   "source": [
    "This example will return a maximum of 300 files in a list, with 50 files per page (request). Also, it will return only malicious files with extended information."
   ]
  }
 ],
 "metadata": {
  "language_info": {
   "name": "python"
  }
 },
 "nbformat": 4,
 "nbformat_minor": 0
}
