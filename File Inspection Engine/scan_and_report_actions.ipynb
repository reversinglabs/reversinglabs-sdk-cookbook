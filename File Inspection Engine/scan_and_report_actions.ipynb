{
 "cells": [
  {
   "cell_type": "markdown",
   "source": [
    "# File Inspection Engine file scanning and report fetching\n",
    "This notebook contains code examples for the File Inspection Engine (FIE) APIs that enable the user to send file samples for scanning and to fetch a simple or advanced report once the scanning is finished.\n",
    "**NOTE:** If pasted into a Python file in the displayed order, all code cells can also work as a Python script."
   ],
   "metadata": {
    "collapsed": false
   },
   "id": "a7b9ced9e51ebf3a"
  },
  {
   "cell_type": "markdown",
   "source": [
    "### Covered API-s\n",
    "- Scan API\n",
    "- Report API\n",
    "\n",
    "### Credentials\n",
    "Credentials are loaded from a local file instead of being written here in plain text.\n",
    "To learn how to creat the credentials file, see the **Storing and using the credentials** section in the [README file](./README.md)"
   ],
   "metadata": {
    "collapsed": false
   },
   "id": "a7d297694a1c9213"
  },
  {
   "cell_type": "markdown",
   "source": [
    "### 1. Import the FileInspectionEngine class"
   ],
   "metadata": {
    "collapsed": false
   },
   "id": "55c63d4e2d9bcc6f"
  },
  {
   "cell_type": "code",
   "execution_count": null,
   "outputs": [],
   "source": [
    "from ReversingLabs.SDK.fie import FileInspectionEngine"
   ],
   "metadata": {
    "collapsed": false
   },
   "id": "63f53f9bab4070d5"
  },
  {
   "cell_type": "markdown",
   "source": [
    "### 2. Loading the credentials\n",
    "Next, we will load our FIE configuration from the local `fie_credentials.json` file.\n",
    "**NOTE: Instead of doing this step, you can paste your credentials while creating the Python object in the following step.**"
   ],
   "metadata": {
    "collapsed": false
   },
   "id": "ea98c2535e84fbe1"
  },
  {
   "cell_type": "code",
   "execution_count": null,
   "outputs": [],
   "source": [
    "import json\n",
    "\n",
    "\n",
    "CREDENTIALS = json.load(open(\"fie_credentials.json\"))\n",
    "HOST = CREDENTIALS.get(\"host\")\n",
    "USER_AGENT = json.load(open('../user_agent.json'))[\"user_agent\"]"
   ],
   "metadata": {
    "collapsed": false
   },
   "id": "4d54e802206ec598"
  },
  {
   "cell_type": "markdown",
   "source": [
    "#### 3. Creating a FileInspectionEngine object\n",
    "First let us create an object out of the FileInspectionEngine class. Unlike the `ticloud` module, the `fie` module has only one class for all its methods (API-s).\n",
    "Having that in mind, we will create our FileInspectionEngine object:"
   ],
   "metadata": {
    "collapsed": false
   },
   "id": "fa7a8a8fab96de60"
  },
  {
   "cell_type": "code",
   "execution_count": null,
   "outputs": [],
   "source": [
    "fie_obj = FileInspectionEngine(\n",
    "    host=HOST,\n",
    "    verify=False,\n",
    "    user_agent=USER_AGENT\n",
    ")"
   ],
   "metadata": {
    "collapsed": false
   },
   "id": "adaa83384d1c0bcd"
  },
  {
   "cell_type": "markdown",
   "source": [
    "**NOTE:** Set the `verify` parameter to `True` or `False` depending on whether you want your server certificates to be validated or ignored.\n",
    "\n",
    "FIE currently offers two endpoints:\n",
    "- SCAN endpoint\n",
    "- REPORT endpoint\n",
    "\n",
    "Both of these endpoints work in the same way: **The user sends a local file for analysis, waits for the analysis to complete and then receives the analysis results in the request's response.**  \n",
    "The difference is in the results you receive:\n",
    "- The SCAN endpoint returns only the basic sample classification info while keeping the analysis time very short.\n",
    "- The REPORT endpoint returns a data-rich analysis report and thus consumes a bit more time."
   ],
   "metadata": {
    "collapsed": false
   },
   "id": "a302ff3134085376"
  },
  {
   "cell_type": "markdown",
   "source": [
    "### 4. Using the SCAN endpoint\n",
    "You can send a file to the FIE SCAN endpoint using the RLSDK in two very similar ways:\n",
    "- Using a file path\n",
    "- Using an open file handle\n",
    "\n",
    "To have a new file uploaded to your FIE instance's SCAN endpoint from a local file path, do the following steps:"
   ],
   "metadata": {
    "collapsed": false
   },
   "id": "7188a4e35a4291f7"
  },
  {
   "cell_type": "code",
   "execution_count": null,
   "outputs": [],
   "source": [
    "response = fie_obj.scan_using_file_path(\n",
    "       file_path=\"/path/to/local/file\"\n",
    ")\n",
    "\n",
    "print(response.text)"
   ],
   "metadata": {
    "collapsed": false
   },
   "id": "ffe41bab85ad47b3"
  },
  {
   "cell_type": "markdown",
   "source": [
    "After the file analysis is done, the printed-out response will show the basic file classification results, like the threat name and the classification itself."
   ],
   "metadata": {
    "collapsed": false
   },
   "id": "bf167d578c412635"
  },
  {
   "cell_type": "markdown",
   "source": [
    "### 5. Using the REPORT endpoint\n",
    "Same as with the SCAN endpoint, you can send a file to the FIE REPORT endpoint using the RLSDK in two ways:\n",
    "- Using a file path\n",
    "- Using an open file handle\n",
    "\n",
    "To have a new file uploaded to your FIE instance's REPORT endpoint from a file handle, do the following steps:"
   ],
   "metadata": {
    "collapsed": false
   },
   "id": "81600395842a1ce7"
  },
  {
   "cell_type": "code",
   "execution_count": null,
   "outputs": [],
   "source": [
    "file_handle = open(\"/path/to/local/file\", \"rb\")\n",
    "\n",
    "response = fie_obj.report_using_open_file(\n",
    "       file_source=file_handle\n",
    ")\n",
    "\n",
    "print(response.text)"
   ],
   "metadata": {
    "collapsed": false
   },
   "id": "ec4a75bddee6e155"
  },
  {
   "cell_type": "markdown",
   "source": [
    "After the file analysis is done, the printed-out response will show broader and more advanced analysis results."
   ],
   "metadata": {
    "collapsed": false
   },
   "id": "df5007388df4086b"
  }
 ],
 "metadata": {
  "kernelspec": {
   "display_name": "Python 3",
   "language": "python",
   "name": "python3"
  },
  "language_info": {
   "codemirror_mode": {
    "name": "ipython",
    "version": 2
   },
   "file_extension": ".py",
   "mimetype": "text/x-python",
   "name": "python",
   "nbconvert_exporter": "python",
   "pygments_lexer": "ipython2",
   "version": "2.7.6"
  }
 },
 "nbformat": 4,
 "nbformat_minor": 5
}
