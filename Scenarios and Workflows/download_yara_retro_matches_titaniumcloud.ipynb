{
 "cells": [
  {
   "cell_type": "markdown",
   "source": [
    "# Download YARA Retro matches - TitaniumCloud\n",
    "This notebook offers the option of downloading multiple files matched by YARA Retroactive hunt.  \n",
    "To create YARA rulesets and start YARA Retroactive hunt, use other Python methods from the ReversingLabs SDK."
   ],
   "metadata": {
    "collapsed": false
   },
   "id": "5cbf3effb9c2d685"
  },
  {
   "cell_type": "markdown",
   "source": [
    "### Used TitaniumCloud classes\n",
    "- **YARARetroHunting** (*TCA-0319*)\n",
    "- **FileDownload** (*TCA-0201*)\n",
    "\n",
    "### Credentials\n",
    "Credentials are loaded from a local file instead of being written here in plain text.\n",
    "To learn how to creat the credentials file, see the **Storing and using the credentials** section in the [README file](./README.md)"
   ],
   "metadata": {
    "collapsed": false
   },
   "id": "138c1a1fe3ad7f3a"
  },
  {
   "cell_type": "code",
   "execution_count": null,
   "outputs": [],
   "source": [
    "import json\n",
    "import os\n",
    "from ReversingLabs.SDK.ticloud import YARARetroHunting, FileDownload\n",
    "\n",
    "\n",
    "CREDENTIALS = json.load(open(\"credentials.json\"))\n",
    "USERNAME = CREDENTIALS.get(\"ticloud\").get(\"username\")\n",
    "PASSWORD = CREDENTIALS.get(\"ticloud\").get(\"password\")\n",
    "\n",
    "cwd = os.getcwd()\n",
    "upper_level = os.path.dirname(cwd)\n",
    "USER_AGENT = json.load(open(os.path.join(upper_level, \"user_agent.json\")))[\"user_agent\"]\n",
    "\n",
    "yara_retro = YARARetroHunting(\n",
    "    host=\"https://data.reversinglabs.com\",\n",
    "    username=USERNAME,\n",
    "    password=PASSWORD,\n",
    "    user_agent=USER_AGENT\n",
    ")\n",
    "\n",
    "file_download = FileDownload(\n",
    "    host=\"https://data.reversinglabs.com\",\n",
    "    username=USERNAME,\n",
    "    password=PASSWORD,\n",
    "    user_agent=USER_AGENT\n",
    ")\n",
    "        \n",
    "        "
   ],
   "metadata": {
    "collapsed": false
   },
   "id": "e85f200c89683c8a"
  },
  {
   "cell_type": "markdown",
   "source": [
    "### 1. Batch-download function\n",
    "This function will be used for downloading each batch of matched samples. Execute it so you can use it further on in the notebook."
   ],
   "metadata": {
    "collapsed": false
   },
   "id": "7dfb3a1f629015c9"
  },
  {
   "cell_type": "code",
   "execution_count": null,
   "outputs": [],
   "source": [
    "def download_batch(sample_list, download_path):\n",
    "    for sample in sample_list:\n",
    "        response = file_download.download_sample(hash_input=sample.get(\"sha1\"))\n",
    "        \n",
    "        with open(os.path.join(download_path, sample.get(\"sha1\")), \"wb\") as file_handle:\n",
    "            file_handle.write(response.content)\n"
   ],
   "metadata": {
    "collapsed": false
   },
   "id": "9c908568a1731d7d"
  },
  {
   "cell_type": "markdown",
   "source": [
    "### 2. Main function\n",
    "To retrieve batches of samples matched by a YARA Retro ruleset and download them as files, use the `download_retro_hunt_matches` function.  \n",
    "This function accepts the following parameters:\n",
    "- `time_format`: defines the format of the used time value. possible options are 'utc' and 'timestamp'\n",
    "- `time_value`: point back in time from which the retro hunt will start producing matches\n",
    "- `download_path`: needs to be a full path to the existing folder\n",
    "\n",
    "Execute the function so you can use it multiple times."
   ],
   "metadata": {
    "collapsed": false
   },
   "id": "bc3934d897e55c41"
  },
  {
   "cell_type": "code",
   "execution_count": null,
   "outputs": [],
   "source": [
    "def download_retro_hunt_matches(time_format, time_value, download_path):\n",
    "    response = yara_retro.yara_retro_matches_feed(\n",
    "        time_format=time_format,\n",
    "        time_value=time_value\n",
    "    )\n",
    "    \n",
    "    resp_json = response.json()\n",
    "    entries = resp_json.get(\"rl\", {}).get(\"feed\", {}).get(\"entries\", [])\n",
    "    \n",
    "    download_batch(sample_list=entries, download_path=download_path)"
   ],
   "metadata": {
    "collapsed": false
   },
   "id": "8397a0c5fec20c40"
  },
  {
   "cell_type": "markdown",
   "source": [
    "### 3. Run"
   ],
   "metadata": {
    "collapsed": false
   },
   "id": "1786817698e6cd41"
  },
  {
   "cell_type": "code",
   "execution_count": null,
   "outputs": [],
   "source": [
    "download_retro_hunt_matches(\n",
    "    time_format=\"timestamp\",\n",
    "    time_value=\"1734994735\",\n",
    "    download_path=\"/change/me\"\n",
    ")"
   ],
   "metadata": {
    "collapsed": false
   },
   "id": "ca468b52d8d260e8"
  }
 ],
 "metadata": {
  "kernelspec": {
   "display_name": "Python 3",
   "language": "python",
   "name": "python3"
  },
  "language_info": {
   "codemirror_mode": {
    "name": "ipython",
    "version": 2
   },
   "file_extension": ".py",
   "mimetype": "text/x-python",
   "name": "python",
   "nbconvert_exporter": "python",
   "pygments_lexer": "ipython2",
   "version": "2.7.6"
  }
 },
 "nbformat": 4,
 "nbformat_minor": 5
}
