{
 "cells": [
  {
   "cell_type": "markdown",
   "source": [
    "# YARA retro hunt with timegating on TiCloud\n",
    "This notebook contains an example of how to use the ReversingLabs SDK \n",
    "to add a YARA ruleset, start a retrohunt and filter output by time."
   ],
   "metadata": {
    "collapsed": false
   },
   "id": "e6d4f3815a06232d"
  },
  {
   "cell_type": "markdown",
   "source": [
    "### Used titaniumCloud classes\n",
    "- **YARAHunting** (*TCA-0303 - Create/Delete a YARA Ruleset*)\n",
    "- **YARARetroHunting** (*TCA-0319 - Start/Cancel YARA Retro Hunt*)\n",
    "- **FileReputation** (*TCA-0101 - File Reputation (Malware Presence)*)\n",
    "\n",
    "### Credentials\n",
    "Credentials are loaded from a local file instead of being written here in plain text.\n",
    "To learn how to create credentials file, see the **Storing and using credentials** section in the [README file](./README.md)"
   ],
   "metadata": {
    "collapsed": false
   },
   "id": "8bd412eb8c413f8c"
  },
  {
   "cell_type": "markdown",
   "source": [
    "### Time gated Retro Hunt with TiCloud\n",
    "The first step on our hunt for interesting samples is to create a rule on TiCloud which we will use in our retro hunt.\n",
    "But before that we import the necessary classes and load our configuration."
   ],
   "metadata": {
    "collapsed": false
   },
   "id": "e02a5bcf9becde2c"
  },
  {
   "cell_type": "code",
   "outputs": [],
   "source": [
    "import json\n",
    "import time\n",
    "import datetime\n",
    "from itertools import islice\n",
    "\n",
    "from ReversingLabs.SDK.ticloud import YARAHunting, YARARetroHunting, FileReputation\n",
    "\n",
    "\n",
    "CREDENTIALS = json.load(open('credentials.json'))\n",
    "USERNAME = CREDENTIALS.get(\"ticloud\").get(\"username\")\n",
    "PASSWORD = CREDENTIALS.get(\"ticloud\").get(\"password\")\n",
    "USER_AGENT = json.load(open('../user_agent.json'))[\"user_agent\"]\n",
    "\n",
    "config = {\n",
    "    \"host\": \"https://data.reversinglabs.com\",\n",
    "    \"username\": USERNAME,\n",
    "    \"password\": PASSWORD,\n",
    "    \"user_agent\": USER_AGENT\n",
    "}"
   ],
   "metadata": {
    "collapsed": false
   },
   "id": "4a271ed679b767d1",
   "execution_count": null
  },
  {
   "cell_type": "markdown",
   "source": [
    "The YARA ruleset in our example has a single rule which looks for 32/64 bit NSIS installers.\n",
    "This rule should provide us a varied set of samples for our example.\n",
    "So for now lets just create the ruleset on TiCloud."
   ],
   "metadata": {
    "collapsed": false
   },
   "id": "c38bf0b906237fbb"
  },
  {
   "cell_type": "code",
   "outputs": [],
   "source": [
    "RULESET_NAME = \"retro_hunt_with_timegating_NSIS_Installer\"\n",
    "RULESET_CONTENT = f\"\"\"\n",
    "import \"pe\"\n",
    "\n",
    "rule {RULESET_NAME}\n",
    "{{\n",
    "\t/* a */\n",
    "    meta:\n",
    "        offset = \"0x4031d1\"\n",
    "        examplar = \"4313d352e0dafd1f22b6517126a655cae3b444fa758d2845eddfbe72f24f7bdd\"\n",
    "    strings:\n",
    "        $op = {{\n",
    "            81[2-3]efbeadde [2-6]\n",
    "            81[2-3]496e7374 [2-6]\n",
    "            81[2-3]736f6674 [2-6]\n",
    "            81[2-3]4e756c6c\n",
    "        }}\n",
    "        $nsis = \"\\\\xef\\\\xbe\\\\xad\\\\xdeNullsoftInst\"\n",
    "    condition:\n",
    "        pe.sections[pe.section_index(@op)].characteristics & (pe.SECTION_MEM_READ | pe.SECTION_MEM_EXECUTE) and\n",
    "        $nsis in (pe.overlay.offset..pe.overlay.offset+pe.overlay.size)\n",
    "}}\n",
    "\"\"\"\n",
    "\n",
    "yara_hunting = YARAHunting(**config)\n",
    "yara_hunting.delete_ruleset(RULESET_NAME)\n",
    "\n",
    "response = yara_hunting.create_ruleset(RULESET_NAME, RULESET_CONTENT)\n",
    "print(response.status_code)\n",
    "print(json.dumps(response.json(), indent=1))"
   ],
   "metadata": {
    "collapsed": false
   },
   "id": "eae391173f79e292",
   "execution_count": null
  },
  {
   "cell_type": "markdown",
   "source": [
    "Once the ruleset is present on TiCloud we are ready to start the retro hunt.\n",
    "And after we start the Retro Hunt we can check its status."
   ],
   "metadata": {
    "collapsed": false
   },
   "id": "7e05e08b33c0ee38"
  },
  {
   "cell_type": "code",
   "outputs": [],
   "source": [
    "yara_retro = YARARetroHunting(**config)\n",
    "\n",
    "response = yara_retro.start_retro_hunt(RULESET_NAME)\n",
    "print(response.status_code)\n",
    "print(json.dumps(response.json(), indent=1))"
   ],
   "metadata": {
    "collapsed": false
   },
   "id": "71f7a87921904495",
   "execution_count": null
  },
  {
   "cell_type": "code",
   "outputs": [],
   "source": [
    "response = yara_retro.check_status(RULESET_NAME)\n",
    "print(response.status_code)\n",
    "print(json.dumps(response.json(), indent=1))"
   ],
   "metadata": {
    "collapsed": false
   },
   "id": "756292fe51a8a8f8",
   "execution_count": null
  },
  {
   "cell_type": "markdown",
   "source": [
    "As we can see the Retro Hunt status for our ruleset is \"RUNNING\".\n",
    "\n",
    "Before we can start consuming the matches four our ruleset we should give TiCloud some time.\n",
    "So take a 10-minute brake before we continue.\n",
    "\n",
    "Now lets take a look at the first 3 returned matches.\n",
    "\n",
    "**NOTE:** YARA retro hunt feed holds at most 10k matches. See the official documentation to handle this edge case."
   ],
   "metadata": {
    "collapsed": false
   },
   "id": "b914bb117075672a"
  },
  {
   "cell_type": "code",
   "outputs": [],
   "source": [
    "start = str(int(time.time() - 60 * 60 * 24 * 1))\n",
    "\n",
    "response = yara_retro.yara_retro_matches_feed(time_format=\"timestamp\", time_value=start).json()[\"rl\"][\"feed\"]\n",
    "print(json.dumps(response, indent=1))\n",
    "\n",
    "print(\"Time range\", response[\"time_range\"])\n",
    "\n",
    "for _, entry in zip(range(3), response[\"entries\"]):\n",
    "    print(json.dumps(entry, indent=1))\n",
    "    "
   ],
   "metadata": {
    "collapsed": false
   },
   "id": "3c73119d29377f10",
   "execution_count": null
  },
  {
   "cell_type": "markdown",
   "source": [
    "The YARA retro hunt feed is paginated by the time value parameter.\n",
    "The `response.rl.feed.last_timestamp` is a sort of pointer to the next page of the feed.\n",
    "Now let us define a generator function which will allow us to consume the feed in its entirety."
   ],
   "metadata": {
    "collapsed": false
   },
   "id": "b22c9a7a8669931f"
  },
  {
   "cell_type": "code",
   "outputs": [],
   "source": [
    "def complete_retro_feed(start_time, limit=None):\n",
    "    next_page = start_time\n",
    "    produced = 0\n",
    "    while next_page:\n",
    "        raw = yara_retro.yara_retro_matches_feed(time_format=\"timestamp\", time_value=next_page)\n",
    "        parsed = raw.json()[\"rl\"][\"feed\"]\n",
    "        next_page = str(parsed.get(\"last_timestamp\"))\n",
    "        for e in parsed.get(\"entries\", []):\n",
    "            produced += 1\n",
    "            yield e\n",
    "            if limit and produced >= limit:\n",
    "                return"
   ],
   "metadata": {
    "collapsed": false
   },
   "id": "5f8d0296f293567f",
   "execution_count": null
  },
  {
   "cell_type": "markdown",
   "source": [
    "The generator function `complete_retro_feed()` provides us only with samples which match our rules.\n",
    "We would like to filter out samples which were not seen in the last week.\n",
    "Since this information is not present in the retro hunt feed we will use the TCA-0101 File Reputation query.\n",
    "\n",
    "To od this we will fist define a helper function `batched_ticloud()`.\n",
    "This will allow us to combine the output from our `complete_retro_feed()` generator.\n",
    "We do this since the TCA-0101 Bulk Query is more efficient and the max batch size is 100.\n",
    "\n",
    "We pass the iterable retro matches feed as an argument into `group_with_reputation()`.\n",
    "Elements of that iterable are batched using the helper function.\n",
    "For each batch we create a list of sample hashes for the File Reputation query.\n",
    "Then the responses from that query are combined with the appropriate sample YARA match.\n",
    "Finally each pair is yielded."
   ],
   "metadata": {
    "collapsed": false
   },
   "id": "450a78d9951899f"
  },
  {
   "cell_type": "code",
   "outputs": [],
   "source": [
    "file_reputation = FileReputation(**config)\n",
    "\n",
    "def batched_ticloud(iterable, n):\n",
    "    it = iter(iterable)\n",
    "    while True:\n",
    "        batch = list(islice(it, n))\n",
    "        if not batch:\n",
    "            return\n",
    "        yield batch\n",
    "\n",
    "def group_with_reputation(retro_matches):\n",
    "    for batch in batched_ticloud(retro_matches, 100):\n",
    "        sha1_to_match = {e[\"sha1\"]: e for e in batch}\n",
    "        batch_reputation = file_reputation.get_file_reputation(\n",
    "            list(sha1_to_match.keys())\n",
    "        ).json()[\"rl\"]\n",
    "        if batch_reputation.get(\"invalid_hashes\"):\n",
    "            print(\"Invalid hashes in stream\", batch_reputation[\"invalid_hashes\"])\n",
    "        for reputation in batch_reputation[\"entries\"]:\n",
    "            # {'status': 'UNKNOWN', 'query_hash': {'sha1': '46c2c0dd5fc12062e3c390ef6cfb8ace6ec1274a'}}\n",
    "            reputation_hash = reputation[\"query_hash\"][\"sha1\"]\n",
    "            yield sha1_to_match[reputation_hash], reputation\n",
    "            \n",
    "first_pair = list(group_with_reputation(complete_retro_feed(start, 1)))[0]\n",
    "print(json.dumps(first_pair, indent=1))\n",
    "    "
   ],
   "metadata": {
    "collapsed": false
   },
   "id": "30ce4431e495a52b",
   "execution_count": null
  },
  {
   "cell_type": "markdown",
   "source": [
    "Finally, we can use the `filter()` function to compose a stream of yara matches and reputations which are interesting to us.\n",
    "Let us find a stream of malicious samples which were first seen in the last week.\n",
    "\n",
    "Here we collect the first 10 samples which satisfy our condition and print out the first."
   ],
   "metadata": {
    "collapsed": false
   },
   "id": "5b3ef76532d48c1"
  },
  {
   "cell_type": "code",
   "outputs": [],
   "source": [
    "def interesting_filter(age_limit, classifications):\n",
    "    def inner(match_reputation):\n",
    "        _, reputation = match_reputation\n",
    "        try:\n",
    "            parsed = datetime.datetime.strptime(reputation[\"first_seen\"], \"%Y-%m-%dT%H:%M:%S\")\n",
    "            first_seen = time.mktime(parsed.timetuple())\n",
    "            return first_seen >= age_limit and reputation[\"status\"].upper() in classifications\n",
    "        except KeyError:\n",
    "            return False\n",
    "    return inner\n",
    "\n",
    "\n",
    "week_ago = int(time.time() - 60 * 60 * 24 * 7)\n",
    "\n",
    "stream = filter(\n",
    "    interesting_filter(week_ago, [\"MALICIOUS\"]), \n",
    "    group_with_reputation(complete_retro_feed(start))\n",
    ")\n",
    "consumed = list(islice(stream, 10))\n",
    "\n",
    "print(json.dumps(consumed[0], indent=1))"
   ],
   "metadata": {
    "collapsed": false
   },
   "id": "c125beb9868aeef7",
   "execution_count": null
  },
  {
   "cell_type": "markdown",
   "source": [
    "Now we know how to use the YARA Retro Hunt API.\n",
    "For thw sake of completeness we will show you how to use stop the Retro Hunt and delete rulesets."
   ],
   "metadata": {
    "collapsed": false
   },
   "id": "caaeee2af5a30611"
  },
  {
   "cell_type": "code",
   "outputs": [],
   "source": [
    "response = yara_retro.cancel_retro_hunt(RULESET_NAME)\n",
    "print(response.status_code)\n",
    "print(json.dumps(response.json(), indent=1))"
   ],
   "metadata": {
    "collapsed": false
   },
   "id": "39fe3f2cd99dc6b0",
   "execution_count": null
  },
  {
   "cell_type": "code",
   "outputs": [],
   "source": [
    "response = yara_retro.check_status(RULESET_NAME)\n",
    "print(response.status_code)\n",
    "print(json.dumps(response.json(), indent=1))"
   ],
   "metadata": {
    "collapsed": false
   },
   "id": "b95b3503e7f20f0b",
   "execution_count": null
  },
  {
   "cell_type": "markdown",
   "source": [
    "Finally, we can delete our rule."
   ],
   "metadata": {
    "collapsed": false
   },
   "id": "f5e8616d006607fa"
  },
  {
   "cell_type": "code",
   "execution_count": null,
   "outputs": [],
   "source": [
    "response = yara_hunting.delete_ruleset(RULESET_NAME)\n",
    "print(response.status_code)\n",
    "print(json.dumps(response.json(), indent=1))"
   ],
   "metadata": {
    "collapsed": false
   },
   "id": "3e923881a3df8cdd"
  },
  {
   "cell_type": "markdown",
   "source": [
    "This was just a simple example how we can combine two TiCloud APIs to great effect.\n",
    "**NOTE** that the code in this notebook is given as an example.\n",
    "You may be able to further improve the code presented here with the use of asynchronous requests."
   ],
   "metadata": {
    "collapsed": false
   },
   "id": "2f0034162ed31374"
  }
 ],
 "metadata": {
  "kernelspec": {
   "display_name": "Python 3",
   "language": "python",
   "name": "python3"
  },
  "language_info": {
   "codemirror_mode": {
    "name": "ipython",
    "version": 2
   },
   "file_extension": ".py",
   "mimetype": "text/x-python",
   "name": "python",
   "nbconvert_exporter": "python",
   "pygments_lexer": "ipython2",
   "version": "2.7.6"
  }
 },
 "nbformat": 4,
 "nbformat_minor": 5
}
