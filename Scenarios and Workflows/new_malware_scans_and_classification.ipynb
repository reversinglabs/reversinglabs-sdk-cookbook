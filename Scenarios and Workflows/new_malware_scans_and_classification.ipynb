{
 "cells": [
  {
   "cell_type": "markdown",
   "source": [
    "# New Malware AV Scans and Dynamic Analysis\n",
    "This notebook contains an example of fetching newly discovered malware and comparing its AV scans with the dynamic analysis report."
   ],
   "metadata": {
    "collapsed": false
   },
   "id": "f9a8c4ddbec98d57"
  },
  {
   "cell_type": "markdown",
   "source": [
    "### Used TitaniumCloud classes\n",
    "- **NewMalwareFilesFeed** TCF-0101\n",
    "- **FilesWithDetectionChanges** TCF-0109\n",
    "- **AVScanners** TCA-0103\n",
    "- **DynamicAnalysis** TCA-0106\n",
    "- **FileDownload** TCA-0201\n",
    "\n",
    "### Credentials\n",
    "Credentials are loaded from a local file instead of being written here in plain text.\n",
    "To learn how to creat the credentials file, see the **Storing and using the credentials** section in the [README file](./README.md)"
   ],
   "metadata": {
    "collapsed": false
   },
   "id": "7a60411134eb6133"
  },
  {
   "cell_type": "markdown",
   "source": [
    "### 1. Fetching newly discovered malware and samples with classification changes\n",
    "First of all, we need to import our credentials and create API objects. To shorten the process, instead of passing the same variables into an object explicitly, \n",
    "we will use a dictionary as kwargs.\n",
    "\n",
    "Afterward, we will start by defining a one-minute time period and fetching a maximum of 50 newly discovered malware and 50 samples with classification changes.\n",
    "The resulting malware list will not be longer than 100 samples in total."
   ],
   "metadata": {
    "collapsed": false
   },
   "id": "201e090dc8b5c3f"
  },
  {
   "cell_type": "code",
   "execution_count": 22,
   "outputs": [],
   "source": [
    "import json\n",
    "from datetime import datetime, timedelta\n",
    "from ReversingLabs.SDK.ticloud import NewMalwareFilesFeed, FilesWithDetectionChanges, FileAnalysis, AVScanners, DynamicAnalysis, FileDownload\n",
    "from ReversingLabs.SDK.helper import NotFoundError\n",
    "\n",
    "\n",
    "CREDENTIALS = json.load(open('credentials.json'))\n",
    "USERNAME = CREDENTIALS.get(\"ticloud\").get(\"username\")\n",
    "PASSWORD = CREDENTIALS.get(\"ticloud\").get(\"password\")\n",
    "USER_AGENT = json.load(open('../user_agent.json'))[\"user_agent\"]\n",
    "\n",
    "config = {\n",
    "    \"host\": \"https://data.reversinglabs.com\",\n",
    "    \"username\": USERNAME,\n",
    "    \"password\": PASSWORD,\n",
    "    \"user_agent\": USER_AGENT\n",
    "}\n",
    "\n",
    "new_malware = NewMalwareFilesFeed(**config)\n",
    "detection_changes = FilesWithDetectionChanges(**config)\n",
    "rldata = FileAnalysis(**config)\n",
    "xref = AVScanners(**config)\n",
    "da = DynamicAnalysis(**config)\n",
    "spex = FileDownload(**config)"
   ],
   "metadata": {
    "collapsed": false,
    "ExecuteTime": {
     "end_time": "2024-09-25T15:02:22.480057849Z",
     "start_time": "2024-09-25T15:02:22.439458812Z"
    }
   },
   "id": "c62358dd8473307b"
  },
  {
   "cell_type": "code",
   "execution_count": 23,
   "outputs": [],
   "source": [
    "hour_back = datetime.now() - timedelta(minutes=1)\n",
    "timestamp = str(int(hour_back.timestamp()))\n",
    "\n",
    "# Fetch newly discovered malware\n",
    "new_malware.set_start(\n",
    "\ttime_format=\"timestamp\",\n",
    "\ttime_value=timestamp\n",
    ")\n",
    "\n",
    "new_entries = []\n",
    "while not new_entries:\n",
    "    resp = new_malware.pull(\n",
    "\t    sample_available=True,\n",
    "        record_limit=50\n",
    "    )\n",
    "\n",
    "    new_entries = resp.json().get(\"rl\", {}).get(\"malware_detection_feed\", {}).get(\"entries\")\n",
    "\n",
    "try:\n",
    "    new_results = new_entries[:49]\n",
    "except IndexError:\n",
    "    new_results = new_entries\n",
    "    \n",
    "# Fetch samples with classification changes\n",
    "detection_changes.start_query(\n",
    "    time_format=\"timestamp\",\n",
    "    time_value=timestamp\n",
    ")\n",
    "\n",
    "change_entries = []\n",
    "while not change_entries:\n",
    "    resp = detection_changes.pull_query(\n",
    "        sample_available=True,\n",
    "        limit=50\n",
    "    )\n",
    "    \n",
    "    change_entries = resp.json().get(\"rl\", {}).get(\"malware_scan_change_feed\", {}).get(\"entries\")\n",
    "    \n",
    "try:\n",
    "    change_results = change_entries[:49]\n",
    "except IndexError:\n",
    "    change_results = change_entries\n",
    "\n",
    "# Merge both lists into new_results\n",
    "new_results.extend(change_results)"
   ],
   "metadata": {
    "collapsed": false,
    "ExecuteTime": {
     "end_time": "2024-09-25T15:02:32.707378129Z",
     "start_time": "2024-09-25T15:02:29.313614124Z"
    }
   },
   "id": "9671625c9c483fbb"
  },
  {
   "cell_type": "markdown",
   "source": [
    "### 2. Grouping AV Scanner hit percentage together with Dynamic Analysis classification\n",
    "After gathering up to 50 newly discovered malware samples and up to 50 samples with classification changes, we will fetch the AV Scanner hit percentage and Dynamic Analysis\n",
    "classification for each of them.\n",
    "The resulting list is called `verdicts` and it carries the SHA1 hash, AV Scanner hit percentage and the Dynamic Analysis classification for each sample.\n",
    "\n",
    "Example of an object in the `verdicts` list:\n",
    "\n",
    "```json\n",
    "{\n",
    "  \"sha1\": \"0a4dfd16565083dd110cbcd24f8c75d176133ddf\", \n",
    "  \"av_percentage\": 95.83333333333334, \n",
    "  \"classification\": 'MALICIOUS',\n",
    "  \"risk_score\": 8\n",
    "}\n",
    "```\n",
    "\n",
    "**NOTE:** Not all gathered samples have an existing Dynamic Analysis report available. Those that won't will be stored in the `da_no_report` list so they can be detonated later."
   ],
   "metadata": {
    "collapsed": false
   },
   "id": "fe2c6c5df6beb248"
  },
  {
   "cell_type": "code",
   "execution_count": null,
   "outputs": [],
   "source": [
    "def analyze_xref(report):\n",
    "    xref_results = report.get(\"rl\", {}).get(\"sample\", {}).get(\"xref\", [])[0]\n",
    "    \n",
    "    scanner_count = xref_results.get(\"scanner_count\")\n",
    "    scanner_match = xref_results.get(\"scanner_match\")\n",
    "    scanner_percentage = (scanner_match / scanner_count) * 100\n",
    "    \n",
    "    return scanner_percentage\n",
    "\n",
    "\n",
    "def resolve_da_status(sample_hash, reports, no_report, processing):\n",
    "    try:\n",
    "        da_resp = da.get_dynamic_analysis_results(sample_hash=sample_hash, latest=True).json()\n",
    "        reports.append({sample_hash: da_resp})\n",
    "        \n",
    "    except NotFoundError as e:\n",
    "        if \"report_not_found\" or \"error\" in str(e):\n",
    "            no_report.append(sample_hash)\n",
    "        else:\n",
    "            processing.append(sample_hash)\n",
    "    \n",
    "da_reports = []\n",
    "da_no_report = []\n",
    "da_processing = []\n",
    "\n",
    "for sample in new_results:\n",
    "    sha1 = sample.get(\"sha1\")\n",
    "            \n",
    "    resolve_da_status(\n",
    "        sample_hash=sha1,\n",
    "        reports=da_reports,\n",
    "        no_report=da_no_report,\n",
    "        processing=da_processing\n",
    "    )\n",
    "    \n",
    "if not da_reports:\n",
    "    print(\"EXISTING REPORTS - da_reports list: There are no samples with existing Dynamic Analysis reports. Consider detonating some of the samples from the da_no_report list.\")\n",
    "    \n",
    "if da_no_report:\n",
    "    print(f\"NON-EXISTENT REPORTS - da_no_report list: There are {len(da_no_report)} samples that have no existing Dynamic Analysis reports. Consider detonating them.\")\n",
    "    \n",
    "if da_processing:\n",
    "    print(f\"PROCESSING REPORTS - da_processing list: There are {len(da_processing)} samples whose Dynamic Analysis reports are still being processed. Try fetching them later.\")\n",
    "\n",
    "# The verdicts list will carry the SHA1 hash, AV Scanner hit percentage and the Dynamic Analysis classification for each sample.\n",
    "verdicts = []\n",
    "    \n",
    "for sample in da_reports:\n",
    "    for k, v in sample.items():\n",
    "        xref_report = xref.get_scan_results(hash_input=k).json()\n",
    "        xref_percentage = analyze_xref(report=xref_report)\n",
    "                \n",
    "        da_classification = v.get(\"rl\", {}).get(\"report\", {}).get(\"classification\")\n",
    "        da_risk_score = v.get(\"rl\", {}).get(\"report\", {}).get(\"risk_score\")\n",
    "        \n",
    "        verdicts.append(\n",
    "\t\t\t{\n",
    "                \"sha1\": k,\n",
    "                \"av_percentage\": xref_percentage,\n",
    "                \"classification\": da_classification,\n",
    "                \"risk_score\": da_risk_score\n",
    "            }\n",
    "        )"
   ],
   "metadata": {
    "collapsed": false
   },
   "id": "97b590dd395fe838"
  },
  {
   "cell_type": "markdown",
   "source": [
    "### 3. Downloading selected malicious samples\n",
    "Our final step in this scenario will be deciding which samples to download and then, of course, downloading them.  \n",
    "Why would we want to download malicious samples? - To study them and use them in further research.  \n",
    "How do we decide which samples to download? - That is up to you to decide. However, we can suggest the following approach:  \n",
    "\n",
    "Since all these samples are declared either malicious or suspicious, we can request download \n",
    "of the ones that have a risk score bigger than 7 or an AV Scanner hit percentage higher than 50%."
   ],
   "metadata": {
    "collapsed": false
   },
   "id": "e381f625141aa4eb"
  },
  {
   "cell_type": "code",
   "execution_count": null,
   "outputs": [],
   "source": [
    "for sample in verdicts:\n",
    "    sha1 = sample.get(\"sha1\")\n",
    "    \n",
    "    if sample.get(\"av_percentage\") > 50 or sample.get(\"risk_score\") > 7:\n",
    "        print(sample)\n",
    "        \n",
    "        resp = spex.download_sample(hash_input=sha1)\n",
    "        \n",
    "        with open(sha1, \"wb\") as file_handle:\n",
    "            file_handle.write(resp.content)\n",
    "            \n",
    "        print(f\"Downloaded sample {sha1}.\")"
   ],
   "metadata": {
    "collapsed": false
   },
   "id": "4b6711e62229b31e"
  },
  {
   "cell_type": "markdown",
   "source": [
    "The code block above will download the malicious samples into your current working folder (from which you're running this notebook)."
   ],
   "metadata": {
    "collapsed": false
   },
   "id": "6480c31b1967c4a1"
  },
  {
   "cell_type": "markdown",
   "source": [
    "### 4. Detonating samples (optional)\n",
    "In case we end up with no existing Dynamic Analysis reports or we simply want to detonate more samples to, in turn, have more reports, we can use the following code.\n",
    "\n",
    "**WARNING**: Dynamic Analysis detonation is a heavy and lengthy action. It is wise **not to swarm the Dynamic Analysis API with large amounts of samples**. For this reason,\n",
    "We will be detonating only the first 5 samples from the `da_no_report` list as an example. "
   ],
   "metadata": {
    "collapsed": false
   },
   "id": "51118fda75cb303"
  },
  {
   "cell_type": "code",
   "execution_count": null,
   "outputs": [],
   "source": [
    "for sample in da_no_report[:5]:\n",
    "    da.detonate_sample(\n",
    "        sample_hash=sample,\n",
    "        platform=\"windows10\"\n",
    "    )\n",
    "    \n",
    "    print(f\"Detonation of sample {sample} requested.\")"
   ],
   "metadata": {
    "collapsed": false
   },
   "id": "2df2d94ef70a1bef"
  },
  {
   "cell_type": "markdown",
   "source": [
    "After requesting detonation of these 5 additional samples, we can wait an arbitrary amount of time and re-run the code block which fetches Dynamic Analysis reports and creates the `verdicts` list."
   ],
   "metadata": {
    "collapsed": false
   },
   "id": "7d91f554ed090f50"
  }
 ],
 "metadata": {
  "kernelspec": {
   "display_name": "Python 3",
   "language": "python",
   "name": "python3"
  },
  "language_info": {
   "codemirror_mode": {
    "name": "ipython",
    "version": 2
   },
   "file_extension": ".py",
   "mimetype": "text/x-python",
   "name": "python",
   "nbconvert_exporter": "python",
   "pygments_lexer": "ipython2",
   "version": "2.7.6"
  }
 },
 "nbformat": 4,
 "nbformat_minor": 5
}
