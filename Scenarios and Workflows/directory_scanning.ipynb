{
 "cells": [
  {
   "cell_type": "markdown",
   "id": "b8d2177c5214b66a",
   "metadata": {
    "collapsed": false
   },
   "source": [
    "# Directory Scanning\n",
    "This notebook contains examples of how to use the ReversingLabs SDK to **collect files from a local directory and send them for analysis on Spectra Intelligence and Spectra Analyze**."
   ]
  },
  {
   "cell_type": "markdown",
   "id": "3c66cec58fcbe655",
   "metadata": {
    "collapsed": false
   },
   "source": [
    "### Used Spectra Intelligence classes\n",
    "- **FileUpload** (*TCA-0202-0203 - File Upload*)\n",
    "\n",
    "### Used Spectra Analyze functions\n",
    "- **upload_sample_from_path**\n",
    "\n",
    "### Credentials\n",
    "Credentials are loaded from a local file instead of being written here in plain text.\n",
    "To learn how to creat the credentials file, see the **Storing and using the credentials** section in the [README file](./README.md)"
   ]
  },
  {
   "cell_type": "markdown",
   "id": "67ada420ce3509a",
   "metadata": {
    "collapsed": false
   },
   "source": [
    "### 1. Scanning the files with Spectra Intelligence\n",
    "To collect files from a local directory and send them for analysis on Spectra Intelligence, see the following code example. "
   ]
  },
  {
   "cell_type": "code",
   "execution_count": null,
   "id": "9c39940f6b968b5",
   "metadata": {},
   "outputs": [],
   "source": [
    "import json\n",
    "import os\n",
    "from ReversingLabs.SDK.ticloud import FileUpload\n",
    "\n",
    "# Linux and Unix systems - Edit before use\n",
    "FOLDER_PATH_LINUX = \"/full/path/to/folder\"\n",
    "\n",
    "# Windows systems - Edit before use\n",
    "FOLDER_PATH_WINDOWS = \"C:\\\\full\\\\path\\\\to\\\\folder\"\n",
    "\n",
    "# Change this so the FOLDER_PATH variable fits your local system\n",
    "FOLDER_PATH = FOLDER_PATH_LINUX\n",
    "\n",
    "CREDENTIALS = json.load(open(\"credentials.json\"))\n",
    "USERNAME = CREDENTIALS.get(\"ticloud\").get(\"username\")\n",
    "PASSWORD = CREDENTIALS.get(\"ticloud\").get(\"password\")\n",
    "USER_AGENT = json.load(open('../user_agent.json'))[\"user_agent\"]\n",
    "\n",
    "\n",
    "file_upload = FileUpload(\n",
    "    host=\"https://data.reversinglabs.com\",\n",
    "    username=USERNAME,\n",
    "    password=PASSWORD,\n",
    "    user_agent=USER_AGENT\n",
    ")\n",
    "\n",
    "# Files that should not be analyzed can be added to this list\n",
    "skip_files = [\"file_name_1\", \"file_name_2\"]\n",
    "\n",
    "\n",
    "for file_name in os.listdir(FOLDER_PATH):\n",
    "    if file_name in skip_files:\n",
    "        continue\n",
    "    \n",
    "    file_path = os.path.join(FOLDER_PATH, file_name)\n",
    "    \n",
    "    try:\n",
    "        file_upload.upload_sample_from_path(file_path=file_path)\n",
    "    \n",
    "    except Exception as e:\n",
    "        if hasattr(e, \"response_object\"):\n",
    "            raise Exception(e.response_object.content)\n",
    "        \n",
    "        raise \n"
   ]
  },
  {
   "cell_type": "markdown",
   "id": "987943a79bf60f06",
   "metadata": {
    "collapsed": false
   },
   "source": [
    "### 2. Scanning the files with Spectra Analyze\n",
    "To collect files from a local directory and send them for analysis on Spectra Analyze, see the following code example."
   ]
  },
  {
   "cell_type": "code",
   "execution_count": null,
   "id": "6b6774a15517020b",
   "metadata": {},
   "outputs": [],
   "source": [
    "import json\n",
    "import os\n",
    "from ReversingLabs.SDK.a1000 import A1000\n",
    "\n",
    "# Linux and Unix systems - Edit before use\n",
    "FOLDER_PATH_LINUX = \"/full/path/to/folder\"\n",
    "\n",
    "# Windows systems - Edit before use\n",
    "FOLDER_PATH_WINDOWS = \"C:\\\\full\\\\path\\\\to\\\\folder\"\n",
    "\n",
    "# Change this so the FOLDER_PATH variable fits your local system\n",
    "FOLDER_PATH = FOLDER_PATH_LINUX\n",
    "\n",
    "CREDENTIALS = json.load(open(\"credentials.json\"))\n",
    "HOST = CREDENTIALS.get(\"a1000\").get(\"a1000_url\")\n",
    "TOKEN = CREDENTIALS.get(\"a1000\").get(\"token\")\n",
    "USER_AGENT = json.load(open('../user_agent.json'))[\"user_agent\"]\n",
    "\n",
    "# Set the verify parameter to False if your Spectra Analyze instance doesn't have a valid CA certificate\n",
    "a1000 = A1000(\n",
    "    host=HOST,\n",
    "    token=TOKEN,\n",
    "    verify=True,\n",
    "    user_agent=USER_AGENT\n",
    ")\n",
    "\n",
    "# Files that should not be analyzed can be added to this list\n",
    "skip_files = [\"file_name_1\", \"file_name_2\"]\n",
    "\n",
    "for file_name in os.listdir(FOLDER_PATH):\n",
    "    if file_name in skip_files:\n",
    "        continue\n",
    "    \n",
    "    file_path = os.path.join(FOLDER_PATH, file_name)\n",
    "    \n",
    "    try:\n",
    "        a1000.upload_sample_from_path(file_path=file_path)\n",
    "    \n",
    "    except Exception as e:\n",
    "        if hasattr(e, \"response_object\"):\n",
    "            raise Exception(e.response_object.content)\n",
    "        \n",
    "        raise \n"
   ]
  },
  {
   "cell_type": "markdown",
   "id": "75a945aa9a600013",
   "metadata": {
    "collapsed": false
   },
   "source": [
    "### 3. Scanning the files with Spectra Detect\n",
    "To collect files from a local directory and send them for analysis on Spectra Detect, see the following code example."
   ]
  },
  {
   "cell_type": "code",
   "execution_count": null,
   "id": "7b6f4ed40dcfbd26",
   "metadata": {},
   "outputs": [],
   "source": [
    "import json\n",
    "import os\n",
    "from ReversingLabs.SDK.tiscale import TitaniumScale\n",
    "\n",
    "# Linux and Unix systems - Edit before use\n",
    "FOLDER_PATH_LINUX = \"/full/path/to/folder\"\n",
    "\n",
    "# Windows systems - Edit before use\n",
    "FOLDER_PATH_WINDOWS = \"C:\\\\full\\\\path\\\\to\\\\folder\"\n",
    "\n",
    "# Change this so the FOLDER_PATH variable fits your local system\n",
    "FOLDER_PATH = FOLDER_PATH_LINUX\n",
    "\n",
    "CREDENTIALS = json.load(open(\"credentials.json\"))\n",
    "HOST = CREDENTIALS.get(\"tiscale\").get(\"tiscale_url\")\n",
    "TOKEN = CREDENTIALS.get(\"tiscale\").get(\"token\")\n",
    "USER_AGENT = json.load(open('../user_agent.json'))[\"user_agent\"]\n",
    "\n",
    "# Set the verify parameter to False if your Spectra Analyze instance doesn't have a valid CA certificate\n",
    "tiscale = TitaniumScale(\n",
    "    host=HOST,\n",
    "    token=TOKEN,\n",
    "    verify=True,\n",
    "    user_agent=USER_AGENT\n",
    ")\n",
    "\n",
    "# Files that should not be analyzed can be added to this list\n",
    "skip_files = [\"file_name_1\", \"file_name_2\"]\n",
    "\n",
    "for file_name in os.listdir(FOLDER_PATH):\n",
    "    if file_name in skip_files:\n",
    "        continue\n",
    "    \n",
    "    file_path = os.path.join(FOLDER_PATH, file_name)\n",
    "    \n",
    "    try:\n",
    "        tiscale.upload_sample_from_path(file_path=file_path)\n",
    "    \n",
    "    except Exception as e:\n",
    "        if hasattr(e, \"response_object\"):\n",
    "            raise Exception(e.response_object.content)\n",
    "        \n",
    "        raise "
   ]
  }
 ],
 "metadata": {
  "language_info": {
   "name": "python"
  }
 },
 "nbformat": 4,
 "nbformat_minor": 5
}
