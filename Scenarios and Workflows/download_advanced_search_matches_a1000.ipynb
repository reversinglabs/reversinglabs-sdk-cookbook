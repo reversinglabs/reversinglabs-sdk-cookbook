{
 "cells": [
  {
   "cell_type": "markdown",
   "source": [
    "# Download Advanced Search matches - A1000\n",
    "This notebook offers the option of downloading multiple files matched by the Advanced Search API."
   ],
   "metadata": {
    "collapsed": false
   },
   "id": "69ccdccfdf3cf4dc"
  },
  {
   "cell_type": "markdown",
   "source": [
    "### Used A1000 functions\n",
    "- **advanced_search_v3**\n",
    "- **download_sample**\n",
    "\n",
    "### Credentials\n",
    "Credentials are loaded from a local file instead of being written here in plain text.\n",
    "To learn how to creat the credentials file, see the **Storing and using the credentials** section in the [README file](./README.md)"
   ],
   "metadata": {
    "collapsed": false
   },
   "id": "942b493d1c741fe6"
  },
  {
   "cell_type": "code",
   "execution_count": null,
   "outputs": [],
   "source": [
    "import json\n",
    "import os\n",
    "from ReversingLabs.SDK.a1000 import A1000\n",
    "\n",
    "\n",
    "CREDENTIALS = json.load(open('credentials.json'))\n",
    "HOST = CREDENTIALS.get(\"a1000\").get(\"a1000_url\")\n",
    "TOKEN = CREDENTIALS.get(\"a1000\").get(\"token\")\n",
    "\n",
    "cwd = os.getcwd()\n",
    "upper_level = os.path.dirname(cwd)\n",
    "USER_AGENT = json.load(open(os.path.join(upper_level, \"user_agent.json\")))[\"user_agent\"]\n",
    "\n",
    "a1000 = A1000(\n",
    "    host=HOST,\n",
    "    token=TOKEN,\n",
    "    user_agent=USER_AGENT,\n",
    "    verify=False\n",
    ")"
   ],
   "metadata": {
    "collapsed": false
   },
   "id": "2ceb51c62e6da64e"
  },
  {
   "cell_type": "markdown",
   "source": [
    "### 1. Batch-download function\n",
    "This function will be used for downloading each batch of matched samples. Execute it so you can use it further on in the notebook."
   ],
   "metadata": {
    "collapsed": false
   },
   "id": "870cb3e0eba4d554"
  },
  {
   "cell_type": "code",
   "execution_count": null,
   "outputs": [],
   "source": [
    "def download_batch(sample_list, download_path):\n",
    "    for sample in sample_list:\n",
    "        response = a1000.download_sample(sample_hash=sample.get(\"sha1\"))\n",
    "        \n",
    "        with open(os.path.join(download_path, sample.get(\"sha1\")), \"wb\") as file_handle:\n",
    "            file_handle.write(response.content)"
   ],
   "metadata": {
    "collapsed": false
   },
   "id": "1645904dfa5a2cc"
  },
  {
   "cell_type": "markdown",
   "source": [
    "### 2. Main function\n",
    "To retrieve batches of samples matched by the Advanced Search API and download them as files, use the `download_advanced_search_matches` function.  \n",
    "This function accepts the following parameters:\n",
    "- `query_string`: advanced search query\n",
    "- `download_path`: needs to be a full path to the existing folder\n",
    "- `ticloud`: use cloud results in the search query\n",
    "- `start_search_date`: start date for the search (optional)\n",
    "- `end_search_date`: end date for the search (optional)\n",
    "- `sorting_criteria`: field used to sort the results\n",
    "- `sorting_order`: 'desc' or 'asc'\n",
    "- `records_per_page`: matches are retrieved in pages. this number defines how big each page will be\n",
    "- `max_results`: the maximum number of matches you want retrieved and downloaded\n",
    "\n",
    "Execute the function so you can use it multiple times."
   ],
   "metadata": {
    "collapsed": false
   },
   "id": "afdb4f18d433057a"
  },
  {
   "cell_type": "code",
   "execution_count": null,
   "outputs": [],
   "source": [
    "def download_advanced_search_matches(query_string, download_path, ticloud=False, start_search_date=None, \n",
    "                                     end_search_date=None, sorting_criteria=None, sorting_order=\"desc\", \n",
    "                                     records_per_page=100, max_results=500):\n",
    "    page_number = 1\n",
    "    more_pages = True\n",
    "    result_count = 0\n",
    "    \n",
    "    while more_pages:\n",
    "        response = a1000.advanced_search_v3(\n",
    "            query_string=query_string,\n",
    "            ticloud=ticloud,\n",
    "            start_search_date=start_search_date,\n",
    "            end_search_date=end_search_date,\n",
    "            page_number=page_number,\n",
    "            records_per_page=records_per_page,\n",
    "            sorting_criteria=sorting_criteria,\n",
    "            sorting_order=sorting_order\n",
    "        )\n",
    "        \n",
    "        resp_json = response.json()\n",
    "        results = resp_json.get(\"rl\", {}).get(\"web_search_api\", {}).get(\"entries\", [])\n",
    "        more_pages = resp_json.get(\"rl\", {}).get(\"web_search_api\", {}).get(\"more_pages\")\n",
    "        \n",
    "        result_count += len(results)\n",
    "        page_number += 1\n",
    "        \n",
    "        if max_results:\n",
    "            \n",
    "            if result_count >= max_results:\n",
    "                excesss = result_count - max_results\n",
    "                cutoff = len(results) - excesss\n",
    "                \n",
    "                results = results[:cutoff]\n",
    "                download_batch(sample_list=results, download_path=download_path)\n",
    "                \n",
    "                break\n",
    "                \n",
    "        download_batch(sample_list=results, download_path=download_path)\n",
    "        \n",
    "        if not more_pages:\n",
    "            break"
   ],
   "metadata": {
    "collapsed": false
   },
   "id": "a8dec3a5697a2e95"
  },
  {
   "cell_type": "markdown",
   "source": [
    "### 3. Run"
   ],
   "metadata": {
    "collapsed": false
   },
   "id": "df873aa93ad4c0e3"
  },
  {
   "cell_type": "code",
   "execution_count": null,
   "outputs": [],
   "source": [
    "download_advanced_search_matches(\n",
    "    query_string=\"change_me\",\n",
    "    download_path=\"/change/me\",\n",
    "    ticloud=False,\n",
    "    records_per_page=20,\n",
    "    max_results=100\n",
    ")"
   ],
   "metadata": {
    "collapsed": false
   },
   "id": "88430e2876d2fd5"
  }
 ],
 "metadata": {
  "kernelspec": {
   "display_name": "Python 3",
   "language": "python",
   "name": "python3"
  },
  "language_info": {
   "codemirror_mode": {
    "name": "ipython",
    "version": 2
   },
   "file_extension": ".py",
   "mimetype": "text/x-python",
   "name": "python",
   "nbconvert_exporter": "python",
   "pygments_lexer": "ipython2",
   "version": "2.7.6"
  }
 },
 "nbformat": 4,
 "nbformat_minor": 5
}
