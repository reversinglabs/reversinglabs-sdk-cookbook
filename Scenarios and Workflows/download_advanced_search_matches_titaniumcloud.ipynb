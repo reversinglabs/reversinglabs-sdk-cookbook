{
 "cells": [
  {
   "cell_type": "markdown",
   "source": [
    "# Download Advanced Search matches - Spectra Intelligence\n",
    "This notebook offers the option of downloading multiple files matched by the Advanced Search API."
   ],
   "metadata": {
    "collapsed": false
   },
   "id": "af34fda1aa5e36"
  },
  {
   "cell_type": "markdown",
   "source": [
    "### Used Spectra Intelligence classes\n",
    "- **AdvancedSearch** (*TCA-0320*)\n",
    "- **FileDownload** (*TCA-0201*)\n",
    "\n",
    "### Credentials\n",
    "Credentials are loaded from a local file instead of being written here in plain text.\n",
    "To learn how to creat the credentials file, see the **Storing and using the credentials** section in the [README file](./README.md)"
   ],
   "metadata": {
    "collapsed": false
   },
   "id": "532408c567e8eef9"
  },
  {
   "cell_type": "code",
   "execution_count": null,
   "outputs": [],
   "source": [
    "import json\n",
    "import os\n",
    "from ReversingLabs.SDK.ticloud import AdvancedSearch, FileDownload\n",
    "\n",
    "CREDENTIALS = json.load(open(\"credentials.json\"))\n",
    "USERNAME = CREDENTIALS.get(\"ticloud\").get(\"username\")\n",
    "PASSWORD = CREDENTIALS.get(\"ticloud\").get(\"password\")\n",
    "\n",
    "cwd = os.getcwd()\n",
    "upper_level = os.path.dirname(cwd)\n",
    "USER_AGENT = json.load(open(os.path.join(upper_level, \"user_agent.json\")))[\"user_agent\"]\n",
    "\n",
    "advanced_search = AdvancedSearch(\n",
    "    host=\"https://data.reversinglabs.com\",\n",
    "    username=USERNAME,\n",
    "    password=PASSWORD,\n",
    "    user_agent=USER_AGENT\n",
    ")\n",
    "\n",
    "file_download = FileDownload(\n",
    "    host=\"https://data.reversinglabs.com\",\n",
    "    username=USERNAME,\n",
    "    password=PASSWORD,\n",
    "    user_agent=USER_AGENT\n",
    ")"
   ],
   "metadata": {
    "collapsed": false
   },
   "id": "1a39e4718f394d1b"
  },
  {
   "cell_type": "markdown",
   "source": [
    "### 1. Batch-download function\n",
    "This function will be used for downloading each batch of matched samples. Execute it so you can use it further on in the notebook."
   ],
   "metadata": {
    "collapsed": false
   },
   "id": "49f4750049c38316"
  },
  {
   "cell_type": "code",
   "execution_count": null,
   "outputs": [],
   "source": [
    "def download_batch(sample_list, download_path):\n",
    "    for sample in sample_list:\n",
    "        response = file_download.download_sample(sample_hash=sample.get(\"sha1\"))\n",
    "        \n",
    "        with open(os.path.join(download_path, sample.get(\"sha1\")), \"wb\") as file_handle:\n",
    "            file_handle.write(response.content)"
   ],
   "metadata": {
    "collapsed": false
   },
   "id": "9eaf31ec7e340997"
  },
  {
   "cell_type": "markdown",
   "source": [
    "### 2. Main function\n",
    "To retrieve batches of samples matched by the Advanced Search API and download them as files, use the `download_advanced_search_matches` function.  \n",
    "This function accepts the following parameters:\n",
    "- `query_string`: advanced search query\n",
    "- `download_path`: needs to be a full path to the existing folder\n",
    "- `sorting_criteria`: field used to sort the results\n",
    "- `sorting_order`: 'desc' or 'asc'\n",
    "- `records_per_page`: matches are retrieved in pages. this number defines how big each page will be\n",
    "- `max_results`: the maximum number of matches you want retrieved and downloaded\n",
    "\n",
    "Execute the function so you can use it multiple times."
   ],
   "metadata": {
    "collapsed": false
   },
   "id": "a455c9d37c5d273c"
  },
  {
   "cell_type": "code",
   "execution_count": null,
   "outputs": [],
   "source": [
    "def download_advanced_search_matches(query_string, download_path, sorting_criteria=None, sorting_order=\"desc\", \n",
    "                                     records_per_page=100, max_results=500):\n",
    "    page_number = 1\n",
    "    more_pages = True\n",
    "    result_count = 0\n",
    "    \n",
    "    while more_pages:\n",
    "        response = advanced_search.search(\n",
    "            query_string=query_string,\n",
    "            page_number=page_number,\n",
    "            records_per_page=records_per_page,\n",
    "            sorting_criteria=sorting_criteria,\n",
    "            sorting_order=sorting_order\n",
    "        )\n",
    "        \n",
    "        resp_json = response.json()\n",
    "        results = resp_json.get(\"rl\", {}).get(\"web_search_api\", {}).get(\"entries\", [])\n",
    "        more_pages = resp_json.get(\"rl\", {}).get(\"web_search_api\", {}).get(\"more_pages\")\n",
    "        \n",
    "        result_count += len(results)\n",
    "        page_number += 1\n",
    "        \n",
    "        if max_results:\n",
    "            \n",
    "            if result_count >= max_results:\n",
    "                excesss = result_count - max_results\n",
    "                cutoff = len(results) - excesss\n",
    "                \n",
    "                results = results[:cutoff]\n",
    "                download_batch(sample_list=results, download_path=download_path)\n",
    "                \n",
    "                break\n",
    "                \n",
    "        download_batch(sample_list=results, download_path=download_path)\n",
    "        \n",
    "        if not more_pages:\n",
    "            break"
   ],
   "metadata": {
    "collapsed": false
   },
   "id": "69cc23a9710ca4c5"
  },
  {
   "cell_type": "markdown",
   "source": [
    "### 3. Run"
   ],
   "metadata": {
    "collapsed": false
   },
   "id": "89076d7c3de14473"
  },
  {
   "cell_type": "code",
   "execution_count": null,
   "outputs": [],
   "source": [
    "download_advanced_search_matches(\n",
    "    query_string=\"change_me\",\n",
    "    download_path=\"/change/me\",\n",
    "    records_per_page=20,\n",
    "    max_results=100\n",
    ")"
   ],
   "metadata": {
    "collapsed": false
   },
   "id": "fbc5a6fa36ad7871"
  }
 ],
 "metadata": {
  "kernelspec": {
   "display_name": "Python 3",
   "language": "python",
   "name": "python3"
  },
  "language_info": {
   "codemirror_mode": {
    "name": "ipython",
    "version": 2
   },
   "file_extension": ".py",
   "mimetype": "text/x-python",
   "name": "python",
   "nbconvert_exporter": "python",
   "pygments_lexer": "ipython2",
   "version": "2.7.6"
  }
 },
 "nbformat": 4,
 "nbformat_minor": 5
}
