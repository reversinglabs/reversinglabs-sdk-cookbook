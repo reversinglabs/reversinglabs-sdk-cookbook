{
 "cells": [
  {
   "cell_type": "markdown",
   "source": [
    "# Download YARA Retro matches - A1000\n",
    "This notebook offers the option of downloading multiple files matched by YARA Retroactive hunt.  \n",
    "To create YARA rulesets and start YARA Retroactive hunt, use other Python methods from the ReversingLabs SDK.\n"
   ],
   "metadata": {
    "collapsed": false
   },
   "id": "1b2c7214bc2ae860"
  },
  {
   "cell_type": "markdown",
   "source": [
    "### Used A1000 functions\n",
    "- **get_yara_ruleset_matches_v2**\n",
    "- **download_sample**\n",
    "\n",
    "### Credentials\n",
    "Credentials are loaded from a local file instead of being written here in plain text.\n",
    "To learn how to creat the credentials file, see the **Storing and using the credentials** section in the [README file](./README.md)"
   ],
   "metadata": {
    "collapsed": false
   },
   "id": "568bb5260ad71495"
  },
  {
   "cell_type": "code",
   "execution_count": null,
   "outputs": [],
   "source": [
    "import json\n",
    "import os\n",
    "from ReversingLabs.SDK.a1000 import A1000\n",
    "\n",
    "\n",
    "CREDENTIALS = json.load(open('credentials.json'))\n",
    "HOST = CREDENTIALS.get(\"a1000\").get(\"a1000_url\")\n",
    "TOKEN = CREDENTIALS.get(\"a1000\").get(\"token\")\n",
    "\n",
    "cwd = os.getcwd()\n",
    "upper_level = os.path.dirname(cwd)\n",
    "USER_AGENT = json.load(open(os.path.join(upper_level, \"user_agent.json\")))[\"user_agent\"]\n",
    "\n",
    "a1000 = A1000(\n",
    "    host=HOST,\n",
    "    token=TOKEN,\n",
    "    user_agent=USER_AGENT,\n",
    "    verify=False\n",
    ")\n"
   ],
   "metadata": {
    "collapsed": false
   },
   "id": "3a6fa19993a33b2c"
  },
  {
   "cell_type": "markdown",
   "source": [
    "### 1. Batch-download function\n",
    "This function will be used for downloading each batch of matched samples. Execute it so you can use it further on in the notebook."
   ],
   "metadata": {
    "collapsed": false
   },
   "id": "355732a0fa3c05b8"
  },
  {
   "cell_type": "code",
   "execution_count": null,
   "outputs": [],
   "source": [
    "\n",
    "def download_batch(sample_list, download_path):\n",
    "    for sample in sample_list:\n",
    "        response = a1000.download_sample(sample_hash=sample.get(\"sha1\"))\n",
    "        \n",
    "        with open(os.path.join(download_path, sample.get(\"sha1\")), \"wb\") as file_handle:\n",
    "            file_handle.write(response.content)\n",
    "            "
   ],
   "metadata": {
    "collapsed": false
   },
   "id": "8be925b62c2cd3e8"
  },
  {
   "cell_type": "markdown",
   "source": [
    "### 2. Main function\n",
    "To retrieve batches of samples matched by a YARA Retro ruleset and download them as files, use the `download_retro_hunt_matches` function.  \n",
    "This function accepts the following parameters:\n",
    "- `ruleset_name`: the name of the ruleset whose matches you want to download as files\n",
    "- `download_path`: needs to be a full path to the existing folder\n",
    "- `max_results`: the maximum number of matches you want retrieved and downloaded\n",
    "- `records_per_page`: matches are retrieved in pages. this number defines how big each page will be\n",
    "\n",
    "Execute the function so you can use it multiple times.\n"
   ],
   "metadata": {
    "collapsed": false
   },
   "id": "489a65d42264e55e"
  },
  {
   "cell_type": "code",
   "execution_count": null,
   "outputs": [],
   "source": [
    "def download_retro_hunt_matches(ruleset_name, download_path, records_per_page=500, max_results=None):    \n",
    "    page_number = 1\n",
    "    more_pages = True\n",
    "    result_count = 0\n",
    "    \n",
    "    while more_pages:        \n",
    "        response = a1000.get_yara_ruleset_matches_v2(\n",
    "            ruleset_name=ruleset_name,\n",
    "            page_size=records_per_page,\n",
    "            page=page_number\n",
    "        )\n",
    "        \n",
    "        resp_json = response.json()\n",
    "        results = resp_json.get(\"results\", [])\n",
    "        more_pages = resp_json.get(\"next\")\n",
    "        \n",
    "        result_count += len(results)\n",
    "        page_number += 1\n",
    "        \n",
    "        if max_results:\n",
    "                        \n",
    "            if result_count >= max_results:\n",
    "                excess = result_count - max_results            \n",
    "                cutoff = len(results) - excess\n",
    "                \n",
    "                results = results[:cutoff]\n",
    "                download_batch(sample_list=results, download_path=download_path)\n",
    "                \n",
    "                break\n",
    "        \n",
    "        download_batch(sample_list=results, download_path=download_path)\n",
    "        \n",
    "        if not more_pages:\n",
    "            break\n",
    "     "
   ],
   "metadata": {
    "collapsed": false
   },
   "id": "761b526762c97952"
  },
  {
   "cell_type": "markdown",
   "source": [
    "### 3. Run"
   ],
   "metadata": {
    "collapsed": false
   },
   "id": "66f29338218bb874"
  },
  {
   "cell_type": "code",
   "execution_count": null,
   "outputs": [],
   "source": [
    "download_retro_hunt_matches(\n",
    "    ruleset_name=\"ChangeMe\",\n",
    "    download_path=\"/change/me\",\n",
    "    records_per_page=20,\n",
    "    max_results=100\n",
    ")"
   ],
   "metadata": {
    "collapsed": false
   },
   "id": "ca75a6f951a8d3c4"
  }
 ],
 "metadata": {
  "kernelspec": {
   "display_name": "Python 3",
   "language": "python",
   "name": "python3"
  },
  "language_info": {
   "codemirror_mode": {
    "name": "ipython",
    "version": 2
   },
   "file_extension": ".py",
   "mimetype": "text/x-python",
   "name": "python",
   "nbconvert_exporter": "python",
   "pygments_lexer": "ipython2",
   "version": "2.7.6"
  }
 },
 "nbformat": 4,
 "nbformat_minor": 5
}
