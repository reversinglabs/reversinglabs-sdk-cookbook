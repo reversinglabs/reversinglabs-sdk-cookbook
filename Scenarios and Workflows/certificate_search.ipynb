{
 "cells": [
  {
   "cell_type": "markdown",
   "id": "e6d4f3815a06232d",
   "metadata": {
    "collapsed": false
   },
   "source": [
    "# Certificate search\n",
    "This notebook contains an example of how to use the ReversingLabs SDK \n",
    "to find signed MALICIOUS samples."
   ]
  },
  {
   "cell_type": "markdown",
   "id": "8bd412eb8c413f8c",
   "metadata": {
    "collapsed": false
   },
   "source": [
    "### Used Spectra Intelligence classes\n",
    "- **CertificateIndex** (*TCA-0501 - Certificate Index*)\n",
    "- **CertificateAnalytics** (*TCA-0502 - Certificate Analytics*)\n",
    "- **CertificateThumbprintSearch** (*TCA-0503 - Certificate Thumbprint Search*)\n",
    "- **RHA1FunctionalSimilarity** (*TCA-0301 - RHA Functional Similarity (Group by RHA1)*)\n",
    "\n",
    "### Credentials\n",
    "Credentials are loaded from a local file instead of being written here in plain text.\n",
    "To learn how to create credentials file, see the **Storing and using credentials** section in the [README file](./README.md)"
   ]
  },
  {
   "cell_type": "markdown",
   "id": "e02a5bcf9becde2c",
   "metadata": {
    "collapsed": false
   },
   "source": [
    "### 1. Certificate Thumbprint Search for signed malicious files\n",
    "First import Spectra Intelligence classes as necessary and set up credentials."
   ]
  },
  {
   "cell_type": "code",
   "execution_count": null,
   "id": "4a271ed679b767d1",
   "metadata": {},
   "outputs": [],
   "source": [
    "import json\n",
    "from ReversingLabs.SDK.ticloud import CertificateAnalytics, CertificateThumbprintSearch, CertificateIndex, RHA1FunctionalSimilarity\n",
    "\n",
    "\n",
    "CREDENTIALS = json.load(open('credentials.json'))\n",
    "USERNAME = CREDENTIALS.get(\"ticloud\").get(\"username\")\n",
    "PASSWORD = CREDENTIALS.get(\"ticloud\").get(\"password\")\n",
    "USER_AGENT = json.load(open('../user_agent.json'))[\"user_agent\"]\n",
    "\n",
    "config = {\n",
    "    \"host\": \"https://data.reversinglabs.com\",\n",
    "    \"username\": USERNAME,\n",
    "    \"password\": PASSWORD,\n",
    "    \"user_agent\": USER_AGENT\n",
    "}"
   ]
  },
  {
   "cell_type": "markdown",
   "id": "c38bf0b906237fbb",
   "metadata": {
    "collapsed": false
   },
   "source": [
    "First lets assume that we have a thumbprint of a certificate.\n",
    "In the case of Spectra Intelligence a certificate thumbprint is a MD5, SHA1 or SHA256 hash value.\n",
    "Let's define a function which takes a thumbprint value and uses ReversingLabs SDK paginated CertificateIndex to find singed sample.\n",
    "Our function is a generator function which will yield sample objects parsed from Spectra Intelligence response. \n",
    "Only samples with MALICIOUS classification are yielded.\n",
    "This function iterates over the entire paginated collection."
   ]
  },
  {
   "cell_type": "code",
   "execution_count": null,
   "id": "e8d6c2ac4a3126fd",
   "metadata": {},
   "outputs": [],
   "source": [
    "def signed_samples(thumbprint):\n",
    "    certificate_index = CertificateIndex(**config)\n",
    "    next_page = None\n",
    "    while True:\n",
    "        cert_info = certificate_index.get_certificate_information(thumbprint, next_page_hash=next_page).json()[\"rl\"]\n",
    "        next_page = cert_info.get(\"next_page\")\n",
    "        for s in cert_info[\"samples\"]:\n",
    "            if s[\"classification\"] == \"MALICIOUS\":\n",
    "                yield s\n",
    "        if next_page is None:\n",
    "            return\n",
    "        \n",
    "print(list(signed_samples(\"029C9665ECA25F548163FC588AD0A2F176157F89B3B76621E9E4E8086893B92F\"))[0])"
   ]
  },
  {
   "cell_type": "markdown",
   "id": "f6df37a22793f661",
   "metadata": {
    "collapsed": false
   },
   "source": [
    "Next we define a function which accepts a certificate common name (or a common name with wildcards) and a limit for the number of samples to process.\n",
    "The `search_common_names()` method from the SDK returns a list of certificate thumbprints which match the common name (or a pattern).\n",
    "For each of these matches we call the SDK method `get_certificate_analytics()`. This returns information about the certificate itself and counters for matched samples.\n",
    "\n",
    "Since some certificates can sign a large number of samples, not all of which are malicious. We use the certificate sample statistics to skip over any certificates which do not sign malicious samples.\n",
    "\n",
    "For any certificate which signs malicious samples we use our previously defined `signed_samples()`.\n",
    "We combine the `certificate_data` retrieved from certificate analytics with the sample signed by that certificate and yield the pair.\n",
    "\n",
    "Finally, we print at most 10 pairs of certificates matched with malicious samples they signed."
   ]
  },
  {
   "cell_type": "code",
   "execution_count": null,
   "id": "828a284fc5c9f3b5",
   "metadata": {},
   "outputs": [],
   "source": [
    "def extract_sha256(element):\n",
    "    for hash_object in element[\"certificate_thumbprints\"]:\n",
    "        if hash_object[\"name\"] == \"SHA256\":\n",
    "            return hash_object[\"value\"]\n",
    "    raise ValueError(\"No SHA256 hash\")\n",
    "\n",
    "def malicious_count(certificate_data):\n",
    "    return certificate_data[\"certificate_analytics\"][\"statistics\"][\"malicious\"]\n",
    "\n",
    "def find_malicious_samples(common_name, count):\n",
    "    thumbprint_search = CertificateThumbprintSearch(**config)\n",
    "    certificate_analytics = CertificateAnalytics(**config)\n",
    "    produced = 0\n",
    "    next_page = None\n",
    "    while produced < count:\n",
    "        response = thumbprint_search.search_common_names(common_name, next_page_thumbprint=next_page).json()[\"rl\"]\n",
    "        next_page = response.get(\"next_page_thumbprint\")\n",
    "        for element in response[\"search\"]:\n",
    "            for thumbprint_object in element[\"thumbprints\"]:\n",
    "                if produced >= count:\n",
    "                    return\n",
    "                thumbprint = extract_sha256(thumbprint_object)\n",
    "                certificate_data = certificate_analytics.get_certificate_analytics(thumbprint).json()[\"rl\"]\n",
    "                if malicious_count(certificate_data) == 0:\n",
    "                    continue\n",
    "                for singed_sample in signed_samples(thumbprint):\n",
    "                    produced = produced + 1\n",
    "                    yield certificate_data, singed_sample\n",
    "        if next_page is None:\n",
    "            return\n",
    "        \n",
    "for cert, sample in find_malicious_samples(\"google.com\", 10):\n",
    "    print(cert)\n",
    "    print()\n",
    "    print(sample)\n",
    "    print(\"\\n\" * 2)"
   ]
  },
  {
   "cell_type": "markdown",
   "id": "d1483c4335032145",
   "metadata": {
    "collapsed": false
   },
   "source": [
    "### 2. Finding similar samples\n",
    "We can now combine the output of our `find_malicious_samples()` function with Spectra Intelligence's RHA1 functional similarity to see if there are any samples which behave similarly to our signed malicious samples."
   ]
  },
  {
   "cell_type": "code",
   "execution_count": null,
   "id": "9d988128d03c745f",
   "metadata": {},
   "outputs": [],
   "source": [
    "def find_similar(sample_sha1):\n",
    "    rha1 = RHA1FunctionalSimilarity(allow_none_return=True, **config)\n",
    "    page = None\n",
    "    while True:\n",
    "        raw = rha1.get_similar_hashes(sample_sha1, page_sha1=page)\n",
    "        if not raw:\n",
    "            break\n",
    "        response = raw.json()[\"rl\"][\"group_by_rha1\"]\n",
    "        yield response\n",
    "        page = response.get(\"next_page_sha1\")\n",
    "        if page is None:\n",
    "            break\n",
    "\n",
    "\n",
    "for cert_obj, sample in find_malicious_samples(\"microsoft.com\", 1):\n",
    "    cert = cert_obj[\"certificate_analytics\"][\"certificate\"]\n",
    "    cn = cert_obj[\"certificate_analytics\"][\"certificate\"][\"common_name\"]\n",
    "    thumb = extract_sha256(cert)\n",
    "    found = 0\n",
    "    \n",
    "    print(cn, thumb)\n",
    "    for matches in find_similar(sample[\"sha1\"]):\n",
    "        found += 1\n",
    "        print(json.dumps(matches, indent=4))\n",
    "        \n",
    "    if not found:\n",
    "        print(\"No samples found for cert\")\n",
    "        \n",
    "    print(\"\\n\" * 2)"
   ]
  },
  {
   "cell_type": "markdown",
   "id": "b0c992aa9f26f385",
   "metadata": {
    "collapsed": false
   },
   "source": [
    "In this example we will search for only one signed malicious sample since there may be a large number of similar samples present on Spectra Intelligence."
   ]
  }
 ],
 "metadata": {
  "language_info": {
   "name": "python"
  }
 },
 "nbformat": 4,
 "nbformat_minor": 5
}
