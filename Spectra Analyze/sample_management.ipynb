{
 "cells": [
  {
   "cell_type": "markdown",
   "id": "46cca247c4a13907",
   "metadata": {
    "collapsed": false
   },
   "source": [
    "# Spectra Analyze sample management API-s\n",
    "This notebook contains code examples for the Spectra Analyze API-s that enable the user to manage their file samples.\n",
    "**NOTE:** If pasted into a Python file in the displayed order, all code cells can also work as a Python script."
   ]
  },
  {
   "cell_type": "markdown",
   "id": "183645cc6b8dc55a",
   "metadata": {
    "collapsed": false
   },
   "source": [
    "### Covered API-s\n",
    "- Submissions API\n",
    "- Download API\n",
    "- Reanalyze API\n",
    "- Delete API\n",
    "\n",
    "### Credentials\n",
    "Credentials are loaded from a local file instead of being written here in plain text.\n",
    "To learn how to creat the credentials file, see the **Storing and using the credentials** section in the [README file](./README.md) "
   ]
  },
  {
   "cell_type": "markdown",
   "id": "cb1ebd8d5b803834",
   "metadata": {
    "collapsed": false
   },
   "source": [
    "### 1. Import the A1000 class"
   ]
  },
  {
   "cell_type": "code",
   "execution_count": null,
   "id": "121fba4ac36e254",
   "metadata": {},
   "outputs": [],
   "source": [
    "from ReversingLabs.SDK.a1000 import A1000"
   ]
  },
  {
   "cell_type": "markdown",
   "id": "16e14c12c58653c8",
   "metadata": {
    "collapsed": false
   },
   "source": [
    "### 2. Loading the credentials\n",
    "Next, we will load our Spectra Analyze credentials and host URL from the local `a1000_credentials.json` file.\n",
    "**NOTE: Instead of doing this step, you can paste your credentials while creating the Python object in the following step.**"
   ]
  },
  {
   "cell_type": "code",
   "execution_count": null,
   "id": "6dc1d57373dad3a4",
   "metadata": {},
   "outputs": [],
   "source": [
    "import json\n",
    "\n",
    "\n",
    "CREDENTIALS = json.load(open(\"a1000_credentials.json\"))\n",
    "HOST = CREDENTIALS.get(\"host\")\n",
    "TOKEN = CREDENTIALS.get(\"token\")\n",
    "USER_AGENT = json.load(open('../user_agent.json'))[\"user_agent\"]"
   ]
  },
  {
   "cell_type": "markdown",
   "id": "62d7321f10a333c4",
   "metadata": {
    "collapsed": false
   },
   "source": [
    "#### 3. Creating an A1000 object\n",
    "First let us create an object out of the A1000 class. Unlike the `ticloud` module, the `a1000` module has only one class for all its methods (API-s).\n",
    "Having that in mind, we will create our A1000 object:"
   ]
  },
  {
   "cell_type": "code",
   "execution_count": null,
   "id": "c2a3552eb709502",
   "metadata": {},
   "outputs": [],
   "source": [
    "a1000 = A1000(\n",
    "    host=HOST,\n",
    "    token=TOKEN,\n",
    "    verify=False,\n",
    "    user_agent=USER_AGENT\n",
    ")"
   ]
  },
  {
   "cell_type": "markdown",
   "id": "b78bf1e935f02d1d",
   "metadata": {
    "collapsed": false
   },
   "source": [
    "**NOTE:** Set the `verify` parameter to `True` or `False` depending on whether you want your server certificates to be validated or ignored."
   ]
  },
  {
   "cell_type": "markdown",
   "id": "3b815e683e59bb69",
   "metadata": {
    "collapsed": false
   },
   "source": [
    "### 4. Submitting a file\n",
    "The Submissions API offers two ways of submitting a file to Spectra Analyze:\n",
    "- Uploading a local file\n",
    "- Uploading a file from a provided URL string\n",
    "\n",
    "In our example we will cover uploading a local file to Spectra Analyze.\n",
    "To have a new file uploaded to your instance of Spectra Analyze, do the following steps:"
   ]
  },
  {
   "cell_type": "code",
   "execution_count": null,
   "id": "c026703400df8a3b",
   "metadata": {},
   "outputs": [],
   "source": [
    "response = a1000.upload_sample_from_path(\n",
    "    file_path=\"our_local_file.exe\",\n",
    "    custom_filename=\"Dangerous_file\",\n",
    "    tags=\"dangerous,malware,tuesday\",\n",
    "    comment=\"Uploaded from the replacement disk\",\n",
    "    rl_cloud_sandbox_platform=\"windows10\"\n",
    ")\n",
    "\n",
    "print(response.text)"
   ]
  },
  {
   "cell_type": "markdown",
   "id": "a3c4baae6bb0f00b",
   "metadata": {
    "collapsed": false
   },
   "source": [
    "We have done several things here. Let us explain each of them:\n",
    "- A local file named \"our_local_file.exe\" was uploaded to Spectra Analyze.\n",
    "- We chose for it to be uploaded to Spectra Analyze under a custom filename: \"Dangerous_file\"\n",
    "- Tags \"dangerous\", \"malware\" and \"tuesday\" will be applied to this file on Spectra Analyze.\n",
    "- A comment stating \"Uploaded from the replacement disk\" will also be added to the file on Spectra Analyze.\n",
    "- Alongside simply uploading the file to Spectra Analyze, we also submitted it to dynamic analysis on the Windows 10 platform, so we can fetch the dynamic analysis results in the future."
   ]
  },
  {
   "cell_type": "markdown",
   "id": "4b7c84ae01cf262b",
   "metadata": {
    "collapsed": false
   },
   "source": [
    "### 5. Downloading a file\n",
    "To download an existing file from A1000, we can do the following:"
   ]
  },
  {
   "cell_type": "code",
   "execution_count": null,
   "id": "ffb8473ca4fb595f",
   "metadata": {},
   "outputs": [],
   "source": [
    "response = a1000.download_sample(sample_hash=\"sha1_file_hash\")\n",
    "\n",
    "with open(\"downloaded_file\", \"wb\") as file_handle:\n",
    "    file_handle.write(response.content)"
   ]
  },
  {
   "cell_type": "markdown",
   "id": "ef047c8c445d141b",
   "metadata": {
    "collapsed": false
   },
   "source": [
    "We requested a file download from A1000 and stored the file's binary contents into the `response` variable.  \n",
    "After doing that, we created a new empty local file named \"downloaded_file\" and wrote into it our downloaded binary contents."
   ]
  },
  {
   "cell_type": "markdown",
   "id": "e5dab63d188489e2",
   "metadata": {
    "collapsed": false
   },
   "source": [
    "### 6. Reanalyzing a file\n",
    "To reanalyze an existing file on A1000, do the following:"
   ]
  },
  {
   "cell_type": "code",
   "execution_count": null,
   "id": "23a62222e78464cb",
   "metadata": {},
   "outputs": [],
   "source": [
    "response = a1000.reanalyze_samples_v2(\n",
    "    hash_input=[\"first_sha1_hash\", \"second_sha1_hash\"],\n",
    "    titanium_cloud=True,\n",
    "    titanium_core=True,\n",
    "    rl_cloud_sandbox=True,\n",
    "    rl_cloud_sandbox_platform=\"macos_11\"\n",
    ")\n",
    "\n",
    "print(response.text)"
   ]
  },
  {
   "cell_type": "markdown",
   "id": "ed238cc3e19724e5",
   "metadata": {
    "collapsed": false
   },
   "source": [
    "With this above action we have requested reanalysis of two existing files using their hashes.  \n",
    "Also, the following was requested:\n",
    "- The files will be reanalyzed using Spectra Intelligence\n",
    "- The files will be reanalyzed using TitaniumCore\n",
    "- The files will be reanalyzed using dynamic analysis on the MacOS 11 platform.\n",
    "\n",
    "Apart from only these additional parameters there are other possible ones that can be found in the official A1000 API documentation."
   ]
  },
  {
   "cell_type": "markdown",
   "id": "891f18136954333f",
   "metadata": {
    "collapsed": false
   },
   "source": [
    "### 7. Delete a file\n",
    "And last but not least, we can delete an existing file from our instance of A1000. To do so, do the following steps:"
   ]
  },
  {
   "cell_type": "code",
   "execution_count": null,
   "id": "cce5660cd3d1a91a",
   "metadata": {},
   "outputs": [],
   "source": [
    "response = a1000.delete_samples(hash_input=[\"first_sha1_hash\", \"second_sha1_hash\"])\n",
    "\n",
    "print(response.text)"
   ]
  },
  {
   "cell_type": "markdown",
   "id": "71711e608685a104",
   "metadata": {
    "collapsed": false
   },
   "source": [
    "Now we have deleted the two samples that we reanalyzed recently. If the delete request was successful, we will see a message stating so."
   ]
  }
 ],
 "metadata": {
  "language_info": {
   "name": "python"
  }
 },
 "nbformat": 4,
 "nbformat_minor": 5
}
