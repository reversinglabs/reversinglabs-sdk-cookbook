{
 "cells": [
  {
   "cell_type": "markdown",
   "id": "9d7f1f15771d055c",
   "metadata": {
    "collapsed": false
   },
   "source": [
    "# Spectra Analyze dynamic analysis API\n",
    "This notebook explains how to fetch the dynamic analysis results from your instance of Spectra Analyze. This API only fetches the analysis results. To submit a file for dynamic analysis on A1000, do so while uploading the file or while reanalyzing it.  \n",
    "**NOTE:** If pasted into a Python file in the displayed order, all code cells can also work as a Python script."
   ]
  },
  {
   "cell_type": "markdown",
   "id": "fa10448d71096650",
   "metadata": {
    "collapsed": false
   },
   "source": [
    "### Credentials\n",
    "Credentials are loaded from a local file instead of being written here in plain text.\n",
    "To learn how to creat the credentials file, see the **Storing and using the credentials** section in the [README file](./README.md) "
   ]
  },
  {
   "cell_type": "markdown",
   "id": "cf14d328ce34f928",
   "metadata": {
    "collapsed": false
   },
   "source": [
    "### 1. Import the A1000 class"
   ]
  },
  {
   "cell_type": "code",
   "execution_count": null,
   "id": "13ba76c5b7e61c6e",
   "metadata": {},
   "outputs": [],
   "source": [
    "from ReversingLabs.SDK.a1000 import A1000"
   ]
  },
  {
   "cell_type": "markdown",
   "id": "ef3b6b1a2b1a61b1",
   "metadata": {
    "collapsed": false
   },
   "source": [
    "### 2. Loading the credentials\n",
    "Next, we will load our Spectra Analyze credentials and host URL from the local `a1000_credentials.json` file.\n",
    "**NOTE: Instead of doing this step, you can paste your credentials while creating the Python object in the following step.**"
   ]
  },
  {
   "cell_type": "code",
   "execution_count": null,
   "id": "d2992f910f3e1562",
   "metadata": {},
   "outputs": [],
   "source": [
    "import json\n",
    "\n",
    "\n",
    "CREDENTIALS = json.load(open(\"a1000_credentials.json\"))\n",
    "HOST = CREDENTIALS.get(\"host\")\n",
    "TOKEN = CREDENTIALS.get(\"token\")\n",
    "USER_AGENT = json.load(open('../user_agent.json'))[\"user_agent\"]"
   ]
  },
  {
   "cell_type": "markdown",
   "id": "ab56f879c48f8bd1",
   "metadata": {
    "collapsed": false
   },
   "source": [
    "#### 3. Creating an A1000 object\n",
    "First let us create an object out of the A1000 class. Unlike the `ticloud` module, the `a1000` module has only one class for all its methods (API-s).\n",
    "Having that in mind, we will create our A1000 object:"
   ]
  },
  {
   "cell_type": "code",
   "execution_count": null,
   "id": "5e1223dba726bae7",
   "metadata": {},
   "outputs": [],
   "source": [
    "a1000 = A1000(\n",
    "    host=HOST,\n",
    "    token=TOKEN,\n",
    "    verify=False,\n",
    "    user_agent=USER_AGENT\n",
    ")"
   ]
  },
  {
   "cell_type": "markdown",
   "id": "d18c338fedb2fd8a",
   "metadata": {
    "collapsed": false
   },
   "source": [
    "**NOTE:** Set the `verify` parameter to `True` or `False` depending on whether you want your server certificates to be validated or ignored."
   ]
  },
  {
   "cell_type": "markdown",
   "id": "30bf83a9c10f8058",
   "metadata": {
    "collapsed": false
   },
   "source": [
    "### 4. Getting the dynamic analysis results\n",
    "To get the dynamic analysis results for a file from Spectra Analyze, we have three steps:\n",
    "- Requesting a report and its format (PDF or HTML)\n",
    "- Checking the report creation status\n",
    "- Downloading the report"
   ]
  },
  {
   "cell_type": "markdown",
   "id": "7f40c39da72ad6de",
   "metadata": {
    "collapsed": false
   },
   "source": [
    "#### Requesting a report\n",
    "First we need to request a report creation task and define the report format that we want."
   ]
  },
  {
   "cell_type": "code",
   "execution_count": null,
   "id": "de98440b912ff8e1",
   "metadata": {},
   "outputs": [],
   "source": [
    "response = a1000.create_dynamic_analysis_report(\n",
    "    sample_hash=\"sha1_file_hash\", \n",
    "    report_format=\"pdf\"\n",
    ")\n",
    "\n",
    "print(response.text)"
   ]
  },
  {
   "cell_type": "markdown",
   "id": "fc224ffe106193bd",
   "metadata": {
    "collapsed": false
   },
   "source": [
    "In our example, we requested a PDF report.\n",
    "\n",
    "\n",
    "#### Checking the report creation status\n",
    "Next, we can check the status of our report creation task. This step is not mandatory but is useful for knowing if our report is ready or not."
   ]
  },
  {
   "cell_type": "code",
   "execution_count": null,
   "id": "78cf3e1a71f9a7e8",
   "metadata": {},
   "outputs": [],
   "source": [
    "response = a1000.check_dynamic_analysis_report_status(\n",
    "    sample_hash=\"sha1_file_hash\", \n",
    "    report_format=\"pdf\"\n",
    ")\n",
    "\n",
    "print(response.text)"
   ]
  },
  {
   "cell_type": "markdown",
   "id": "7ce55b15cbf69400",
   "metadata": {
    "collapsed": false
   },
   "source": [
    "By printing out the response message, we can see the status of our report creation task.  \n",
    "\n",
    "\n",
    "#### Downloading the report\n",
    "If the report is ready, we can proceed to downloading it."
   ]
  },
  {
   "cell_type": "code",
   "execution_count": null,
   "id": "1505a364a3325af8",
   "metadata": {},
   "outputs": [],
   "source": [
    "response = a1000.download_dynamic_analysis_report(\n",
    "    sample_hash=\"sha1_file_hash\", \n",
    "    report_format=\"pdf\"\n",
    ")\n",
    "\n",
    "with open(\"report.pdf\", \"wb\") as file_handle:\n",
    "    file_handle.write(response.content)"
   ]
  },
  {
   "cell_type": "markdown",
   "id": "bbdc335c300acfec",
   "metadata": {
    "collapsed": false
   },
   "source": [
    "Here we had to open a new empty PDF file and write the report's binary contents into it."
   ]
  }
 ],
 "metadata": {
  "language_info": {
   "name": "python"
  }
 },
 "nbformat": 4,
 "nbformat_minor": 5
}
