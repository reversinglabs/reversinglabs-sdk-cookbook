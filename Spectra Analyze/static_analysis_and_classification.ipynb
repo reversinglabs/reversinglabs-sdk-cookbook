{
 "cells": [
  {
   "cell_type": "markdown",
   "id": "46307aa54ab101fc",
   "metadata": {
    "collapsed": false
   },
   "source": [
    "# Spectra Analyze classification and static analysis API-s\n",
    "This notebook contains code examples for the Spectra Analyze API-s that fetch the static analysis report and the cloud classification report.\n",
    "**NOTE:** If pasted into a Python file in the displayed order, all code cells can also work as a Python script."
   ]
  },
  {
   "cell_type": "markdown",
   "id": "2896f92eb7d27f4b",
   "metadata": {
    "collapsed": false
   },
   "source": [
    "### Covered API-s\n",
    "- Static Analysis Report API\n",
    "- Classification Status API\n",
    "\n",
    "### Credentials\n",
    "Credentials are loaded from a local file instead of being written here in plain text.\n",
    "To learn how to creat the credentials file, see the **Storing and using the credentials** section in the [README file](./README.md) "
   ]
  },
  {
   "cell_type": "markdown",
   "id": "37b2231d41380bc2",
   "metadata": {
    "collapsed": false
   },
   "source": [
    "### 1. Import the A1000 class"
   ]
  },
  {
   "cell_type": "code",
   "execution_count": null,
   "id": "76d79fb4b1a09b31",
   "metadata": {},
   "outputs": [],
   "source": [
    "from ReversingLabs.SDK.a1000 import A1000"
   ]
  },
  {
   "cell_type": "markdown",
   "id": "91ac25c71edebe8",
   "metadata": {
    "collapsed": false
   },
   "source": [
    "### 2. Loading the credentials\n",
    "Next, we will load our Spectra Analyze credentials and host URL from the local `a1000_credentials.json` file.\n",
    "**NOTE: Instead of doing this step, you can paste your credentials while creating the Python object in the following step.**"
   ]
  },
  {
   "cell_type": "code",
   "execution_count": null,
   "id": "887d841ffa579576",
   "metadata": {},
   "outputs": [],
   "source": [
    "import json\n",
    "\n",
    "\n",
    "CREDENTIALS = json.load(open(\"a1000_credentials.json\"))\n",
    "HOST = CREDENTIALS.get(\"host\")\n",
    "TOKEN = CREDENTIALS.get(\"token\")\n",
    "USER_AGENT = json.load(open('../user_agent.json'))[\"user_agent\"]"
   ]
  },
  {
   "cell_type": "markdown",
   "id": "4ea39346f93d124b",
   "metadata": {
    "collapsed": false
   },
   "source": [
    "#### 3. Creating an A1000 object\n",
    "First let us create an object out of the A1000 class. Unlike the `ticloud` module, the `a1000` module has only one class for all its methods (API-s).\n",
    "Having that in mind, we will create our A1000 object:"
   ]
  },
  {
   "cell_type": "code",
   "execution_count": null,
   "id": "b5c0e907c6d13216",
   "metadata": {},
   "outputs": [],
   "source": [
    "a1000 = A1000(\n",
    "    host=HOST,\n",
    "    token=TOKEN,\n",
    "    verify=False,\n",
    "    user_agent=USER_AGENT\n",
    ")"
   ]
  },
  {
   "cell_type": "markdown",
   "id": "445ce7bd2151ef6c",
   "metadata": {
    "collapsed": false
   },
   "source": [
    "**NOTE:** Set the `verify` parameter to `True` or `False` depending on whether you want your server certificates to be validated or ignored."
   ]
  },
  {
   "cell_type": "markdown",
   "id": "8fa5b6584a69a29",
   "metadata": {
    "collapsed": false
   },
   "source": [
    "### 4. Getting the static analysis report\n",
    "Static analysis of a file inside of Spectra Analyze is performed by ReversingLabs' TitaniumCore engine.  \n",
    "To obtain the static analysis report from your Spectra Analyze, do the following: "
   ]
  },
  {
   "cell_type": "code",
   "execution_count": null,
   "id": "facde829bfa17062",
   "metadata": {},
   "outputs": [],
   "source": [
    "response = a1000.get_titanium_core_report_v2(sample_hash=\"sha1_file_hash\")\n",
    "\n",
    "print(response.text)"
   ]
  },
  {
   "cell_type": "markdown",
   "id": "ad8b31303cfaf78f",
   "metadata": {
    "collapsed": false
   },
   "source": [
    "As simple as that, we fetched the static analysis report from the TitaniumCore engine on our Spectra Analyze using the file's SHA1 hash as a parameter."
   ]
  },
  {
   "cell_type": "markdown",
   "id": "741b82998a1d4bf6",
   "metadata": {
    "collapsed": false
   },
   "source": [
    "### 4. Getting the classification report\n",
    "The classification report gives us information about what Spectra Intelligence said about our requested file. In our example we will also request full AV scanner results alongside the classification report: "
   ]
  },
  {
   "cell_type": "code",
   "execution_count": null,
   "id": "28b6dd5f54d32411",
   "metadata": {},
   "outputs": [],
   "source": [
    "response = a1000.get_classification_v3(\n",
    "    sample_hash=\"sha1_file_hash\",\n",
    "    av_scanners=True\n",
    ")\n",
    "\n",
    "print(response.text)"
   ]
  },
  {
   "cell_type": "markdown",
   "id": "2ff3e7d63a3f0d53",
   "metadata": {
    "collapsed": false
   },
   "source": [
    "Now we have both the static analysis and classification (cloud) reports. Use them to gain valuable knowledge of your uploaded files!"
   ]
  }
 ],
 "metadata": {
  "language_info": {
   "name": "python"
  }
 },
 "nbformat": 4,
 "nbformat_minor": 5
}
