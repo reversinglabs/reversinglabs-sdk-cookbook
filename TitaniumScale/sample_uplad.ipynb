{
 "cells": [
  {
   "cell_type": "markdown",
   "source": [
    "# TitaniumScale sample upload and report fetching\n",
    "This notebook contains code examples for the TitaniumScale API-s that enable the user to upload samples for analysis and to fetch the report once the analysis is finished.\n",
    "**NOTE:** If pasted into a Python file in the displayed order, all code cells can also work as a Python script."
   ],
   "metadata": {
    "collapsed": false
   },
   "id": "b5239897bc96118b"
  },
  {
   "cell_type": "markdown",
   "source": [
    "### Covered API-s\n",
    "- Upload API\n",
    "- Samples API\n",
    "\n",
    "### Credentials\n",
    "Credentials are loaded from a local file instead of being written here in plain text.\n",
    "To learn how to creat the credentials file, see the **Storing and using the credentials** section in the [README file](./README.md)"
   ],
   "metadata": {
    "collapsed": false
   },
   "id": "8bc0b98d09503961"
  },
  {
   "cell_type": "markdown",
   "source": [
    "### 1. Import the TitaniumScale class"
   ],
   "metadata": {
    "collapsed": false
   },
   "id": "fdee800de94ba4a"
  },
  {
   "cell_type": "code",
   "execution_count": null,
   "outputs": [],
   "source": [
    "from ReversingLabs.SDK.tiscale import TitaniumScale"
   ],
   "metadata": {
    "collapsed": false
   },
   "id": "275752af8fb21f8f"
  },
  {
   "cell_type": "markdown",
   "source": [
    "### 2. Loading the credentials\n",
    "Next, we will load our TitaniumScale credentials and host URL from the local `tiscale_credentials.json` file.\n",
    "**NOTE: Instead of doing this step, you can paste your credentials while creating the Python object in the following step.**"
   ],
   "metadata": {
    "collapsed": false
   },
   "id": "cb656806ad4d00fe"
  },
  {
   "cell_type": "code",
   "execution_count": null,
   "outputs": [],
   "source": [
    "import json\n",
    "\n",
    "\n",
    "CREDENTIALS = json.load(open(\"tiscale_credentials.json\"))\n",
    "HOST = CREDENTIALS.get(\"host\")\n",
    "TOKEN = CREDENTIALS.get(\"token\")\n",
    "USER_AGENT = json.load(open('../user_agent.json'))[\"user_agent\"]"
   ],
   "metadata": {
    "collapsed": false
   },
   "id": "40b418cb4757db94"
  },
  {
   "cell_type": "markdown",
   "source": [
    "#### 3. Creating a TitaniumScale object\n",
    "First let us create an object out of the TitaniumScale class. Unlike the `ticloud` module, the `tiscale` module has only one class for all its methods (API-s).\n",
    "Having that in mind, we will create our TitaniumScale object:"
   ],
   "metadata": {
    "collapsed": false
   },
   "id": "dd92537ce4f455aa"
  },
  {
   "cell_type": "code",
   "execution_count": null,
   "outputs": [],
   "source": [
    "tiscale_obj = TitaniumScale(\n",
    "    host=HOST,\n",
    "    token=TOKEN,\n",
    "    verify=False,\n",
    "    user_agent=USER_AGENT\n",
    ")"
   ],
   "metadata": {
    "collapsed": false
   },
   "id": "7f7a643410d5eaf2"
  },
  {
   "cell_type": "markdown",
   "source": [
    "**NOTE:** Set the `verify` parameter to `True` or `False` depending on whether you want your server certificates to be validated or ignored."
   ],
   "metadata": {
    "collapsed": false
   },
   "id": "d3bb76cc6225cefa"
  },
  {
   "cell_type": "markdown",
   "source": [
    "### 4. Uploading a file\n",
    "You can upload a file to TitaniumScale using the RLSDK in two very similar ways:\n",
    "- Using a file path\n",
    "- Using an open file handle\n",
    "\n",
    "To have a new file uploaded to your TitaniumScale instance, do the following steps:"
   ],
   "metadata": {
    "collapsed": false
   },
   "id": "49eb2dd912f3ec6f"
  },
  {
   "cell_type": "code",
   "execution_count": null,
   "outputs": [],
   "source": [
    "response = tiscale_obj.upload_sample_from_path(\n",
    "    file_path=\"our_local_file.exe\",\n",
    "    custom_token=\"MyToken\"\n",
    ")\n",
    "\n",
    "print(response.text)"
   ],
   "metadata": {
    "collapsed": false
   },
   "id": "c64e0ba55fbd4b9e"
  },
  {
   "cell_type": "markdown",
   "source": [
    "What was done:\n",
    "- We defined that a file from a local path should be uploaded to our TitaniumScale instance for analysis.\n",
    "- We defined an optional custom identification token used for filtering file processing tasks.\n",
    "- The response returns the analysis task URL for our file."
   ],
   "metadata": {
    "collapsed": false
   },
   "id": "824c60537035752e"
  },
  {
   "cell_type": "markdown",
   "source": [
    "### 5. Fetching the analysis report\n",
    "Now we will fetch the analysis result report using the `get_results` method.\n",
    "To do so, we will use the task URL from the file upload response."
   ],
   "metadata": {
    "collapsed": false
   },
   "id": "b41acc5ad4b3c84a"
  },
  {
   "cell_type": "code",
   "execution_count": null,
   "outputs": [],
   "source": [
    "response = tiscale_obj.get_results(\n",
    "    task_url=\"task_url_from_the_upload_response\",\n",
    "    full_report=True\n",
    ")\n",
    "\n",
    "print(response.text)"
   ],
   "metadata": {
    "collapsed": false
   },
   "id": "272810a345565334"
  },
  {
   "cell_type": "markdown",
   "source": [
    "### 6. Doing both actions in one take\n",
    "There is also an option of uploading a file combined with fetching the report.  \n",
    "An optional step is configuring `retries` and `wait_time_seconds` while creating the TitaniumScale object. Those two parameters define the number of report fetching retries and the wait time between them in seconds."
   ],
   "metadata": {
    "collapsed": false
   },
   "id": "c7f246e0b59dabfe"
  },
  {
   "cell_type": "code",
   "execution_count": null,
   "outputs": [],
   "source": [
    "response = tiscale_obj.upload_sample_and_get_results(\n",
    "    file_path=\"task_url_from_the_upload_response\",\n",
    "    custom_token=\"MyToken\",\n",
    "    full_report=True\n",
    ")\n",
    "\n",
    "print(response.text)"
   ],
   "metadata": {
    "collapsed": false
   },
   "id": "40fa21b753ea7a7b"
  },
  {
   "cell_type": "markdown",
   "source": [
    "If the analysis report is still not ready after using up all the retry attempts, the method will raise a `RequestTimeoutError`."
   ],
   "metadata": {
    "collapsed": false
   },
   "id": "68d3439f0eda8352"
  }
 ],
 "metadata": {
  "kernelspec": {
   "display_name": "Python 3",
   "language": "python",
   "name": "python3"
  },
  "language_info": {
   "codemirror_mode": {
    "name": "ipython",
    "version": 2
   },
   "file_extension": ".py",
   "mimetype": "text/x-python",
   "name": "python",
   "nbconvert_exporter": "python",
   "pygments_lexer": "ipython2",
   "version": "2.7.6"
  }
 },
 "nbformat": 4,
 "nbformat_minor": 5
}
