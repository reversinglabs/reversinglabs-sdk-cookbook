{
 "cells": [
  {
   "cell_type": "markdown",
   "metadata": {},
   "source": [
    "# TitaniumCloud TAXII Related Tools Feed\n",
    "This notebook demonstrates how to use the TCTF-0003 TAXII Related Tools Feed which delivers fresh and up-to-date indicators of ransomware activity in the wild.\n",
    "**NOTE:** If pasted into a Python file in the displayed order, all code cells can also work as a Python script."
   ]
  },
  {
   "cell_type": "markdown",
   "metadata": {},
   "source": [
    "### Covered API classes\n",
    "This notebook covers examples for the following API class:\n",
    "- **TAXIIFeed** (*TCTF-0003*)\n",
    "\n",
    "### Credentials\n",
    "Credentials are loaded from a local file instead of being written here in plain text.\n",
    "To learn how to creat the credentials file, see the **Storing and using the credentials** section in the [README file](./README.md)"
   ]
  },
  {
   "cell_type": "markdown",
   "metadata": {},
   "source": [
    "### 1. Importing the required classes\n",
    "First, we will import the required API class from the ticloud module."
   ]
  },
  {
   "cell_type": "code",
   "execution_count": null,
   "metadata": {
    "vscode": {
     "languageId": "plaintext"
    }
   },
   "outputs": [],
   "source": [
    "from ReversingLabs.SDK.ticloud import TAXIIFeed"
   ]
  },
  {
   "cell_type": "markdown",
   "metadata": {},
   "source": [
    "### 2. Loading the credentials\n",
    "Next, we will load our TitaniumCloud credentials from the local `ticloud_credentials.json` file.\n",
    "**NOTE: Instead of doing this step, you can paste your credentials while creating the Python object in the following step.**"
   ]
  },
  {
   "cell_type": "code",
   "execution_count": null,
   "metadata": {
    "vscode": {
     "languageId": "plaintext"
    }
   },
   "outputs": [],
   "source": [
    "import json\n",
    "\n",
    "\n",
    "CREDENTIALS = json.load(open(\"ticloud_credentials.json\"))\n",
    "USERNAME = CREDENTIALS.get(\"username\")\n",
    "PASSWORD = CREDENTIALS.get(\"password\")\n",
    "USER_AGENT = json.load(open('../user_agent.json'))[\"user_agent\"]"
   ]
  },
  {
   "cell_type": "markdown",
   "metadata": {},
   "source": [
    "### 3. Creating the TAXIIFeed object\n",
    "Now we need to create the Python object for the TAXIIFeed in order to use its quota displaying methods."
   ]
  },
  {
   "cell_type": "code",
   "execution_count": null,
   "metadata": {
    "vscode": {
     "languageId": "plaintext"
    }
   },
   "outputs": [],
   "source": [
    "taxii_feed = TAXIIFeed(\n",
    "    host=\"https://data.reversinglabs.com\",\n",
    "    username=USERNAME,\n",
    "    password=PASSWORD,\n",
    "    user_agent=USER_AGENT\n",
    ")"
   ]
  },
  {
   "cell_type": "markdown",
   "metadata": {},
   "source": [
    "### 4. Standard endpoints\n",
    "Every TAXII standard server has the following endpoints:\n",
    "- Discovery endpoint\n",
    "- API root endpoint\n",
    "- Collections endpoint"
   ]
  },
  {
   "cell_type": "markdown",
   "metadata": {},
   "source": [
    "#### Discovery endpoint\n",
    "The discovery endpoint is the starting point for learning about the available API roots on a TAXII server and to get the general info about the server. To fetch the discovery info from the TAXII Related Tools feed, do the run the following action:"
   ]
  },
  {
   "cell_type": "code",
   "execution_count": null,
   "metadata": {
    "vscode": {
     "languageId": "plaintext"
    }
   },
   "outputs": [],
   "source": [
    "discovey_info = taxii_feed.discovery_info()\n",
    "print(discovey_info.text)"
   ]
  },
  {
   "cell_type": "markdown",
   "metadata": {},
   "source": [
    "Now that we have discovery info, we can see the available API roots.\n",
    "\n",
    "#### API root endpoint\n",
    "To get the info about a specific API root, run the following action:"
   ]
  },
  {
   "cell_type": "code",
   "execution_count": null,
   "metadata": {
    "vscode": {
     "languageId": "plaintext"
    }
   },
   "outputs": [],
   "source": [
    "api_rooot_info = taxii_feed.api_root_info(api_root=\"flexible-intel-feeds\")\n",
    "print(api_rooot_info.text)"
   ]
  },
  {
   "cell_type": "markdown",
   "metadata": {},
   "source": [
    "#### Collections endpoint\n",
    "To get the info about a specific collection on an API root, run the following action:"
   ]
  },
  {
   "cell_type": "code",
   "execution_count": null,
   "metadata": {
    "vscode": {
     "languageId": "plaintext"
    }
   },
   "outputs": [],
   "source": [
    "collection_info = taxii_feed.collections_info(api_root=\"flexible-intel-feeds\")\n",
    "print(collection_info.text)"
   ]
  },
  {
   "cell_type": "markdown",
   "metadata": {},
   "source": [
    "### 5. Getting objects from the feed\n",
    "\n",
    "#### Single page of objects\n",
    "To fetch a single page of objects from a specified time onwards, do the following:"
   ]
  },
  {
   "cell_type": "code",
   "execution_count": null,
   "metadata": {
    "vscode": {
     "languageId": "plaintext"
    }
   },
   "outputs": [],
   "source": [
    "from datetime import datetime, timedelta\n",
    "\n",
    "hours_back = 5.0    \n",
    "desired_time = datetime.today() - timedelta(hours=hours_back)\n",
    "time_string = desired_time.strftime(\"%Y-%m-%dT%H:%M:%SZ\")\n",
    "\n",
    "one_page = taxii_feed.get_objects(\n",
    "    api_root=\"flexible-intel-feeds\",\n",
    "    collection_id=\"049cf182-4812-5c6e-a539-5efc36c05aaa\",\n",
    "    added_after=time_string\n",
    ")\n",
    "\n",
    "print(one_page.text)"
   ]
  },
  {
   "cell_type": "markdown",
   "metadata": {},
   "source": [
    "This example fetches data from the previous 5 hours relatively. To change the range, edit the `hours_back` variable.\n",
    "\n",
    "#### Objects from multiple pages\n",
    "Paging can be done manually or by using the `get_objects_aggregated` method which does the paging withing itself and returns a desired number of results. If the `max_results` parameter is set to `None`, ALL available results for the defined period will be returned."
   ]
  },
  {
   "cell_type": "code",
   "execution_count": null,
   "metadata": {
    "vscode": {
     "languageId": "plaintext"
    }
   },
   "outputs": [],
   "source": [
    "results_list = taxii_feed.get_objects_aggregated(\n",
    "    api_root=\"flexible-intel-feeds\",\n",
    "    collection_id=\"049cf182-4812-5c6e-a539-5efc36c05aaa\",\n",
    "    added_after=time_string,\n",
    "    result_limit=50,\n",
    "    max_results=500\n",
    ")\n",
    "\n",
    "print(results_list)"
   ]
  },
  {
   "cell_type": "markdown",
   "metadata": {},
   "source": [
    "In our example, we defined that we need a maximum of 500 results. In case there is less than 500 results available for the defined period, the list will return the available maximum. The aggregating method does the paging for us and lets us worry only about the maximum desired number of results and the number of results returned per each page (`result_limit` - affects the number of requests being done in the background).\n",
    "\n",
    "#### Single specific object\n",
    "Apart from fetching latest indicators in general, the TAXII feed also allows fetching a single specific indicator using its ID:"
   ]
  },
  {
   "cell_type": "code",
   "execution_count": null,
   "metadata": {
    "vscode": {
     "languageId": "plaintext"
    }
   },
   "outputs": [],
   "source": [
    "specific_indicator = taxii_feed.get_objects(\n",
    "    api_root=\"flexible-intel-feeds\",\n",
    "    collection_id=\"049cf182-4812-5c6e-a539-5efc36c05aaa\",\n",
    "    match_id=\"indicator--1e14a458-f3f8-5d26-8049-097e00e55aa2\"\n",
    ")\n",
    "\n",
    "print(specific_indicator.text)"
   ]
  }
 ],
 "metadata": {
  "language_info": {
   "name": "python"
  }
 },
 "nbformat": 4,
 "nbformat_minor": 2
}
